{
 "cells": [
  {
   "cell_type": "markdown",
   "id": "e1d003a4-71a6-427c-b895-d0b4d2db2855",
   "metadata": {},
   "source": [
    "**Steps:**\n",
    "1. importing all required libraries\n",
    "2. data loading\n",
    "3. EDA\n",
    "   i. treating null values\n",
    "   ii. deleting duplicates\n",
    "   iii. deleting outliers\n",
    "   iv. Checking multicollinearity\n",
    "   v. label encoding\n",
    "4. Visualization\n",
    "5. Feature Selection\n",
    "6. Model Creation"
   ]
  },
  {
   "cell_type": "code",
   "execution_count": 15,
   "id": "9024d71b-ffec-4024-95a9-fefb336949d1",
   "metadata": {},
   "outputs": [],
   "source": [
    "import numpy as np\n",
    "import pandas as pd\n",
    "import matplotlib.pyplot as plt"
   ]
  },
  {
   "cell_type": "code",
   "execution_count": 6,
   "id": "de7312f7-b63c-45ea-bc21-de08fe3fd42e",
   "metadata": {},
   "outputs": [
    {
     "data": {
      "text/html": [
       "<div>\n",
       "<style scoped>\n",
       "    .dataframe tbody tr th:only-of-type {\n",
       "        vertical-align: middle;\n",
       "    }\n",
       "\n",
       "    .dataframe tbody tr th {\n",
       "        vertical-align: top;\n",
       "    }\n",
       "\n",
       "    .dataframe thead th {\n",
       "        text-align: right;\n",
       "    }\n",
       "</style>\n",
       "<table border=\"1\" class=\"dataframe\">\n",
       "  <thead>\n",
       "    <tr style=\"text-align: right;\">\n",
       "      <th></th>\n",
       "      <th>age</th>\n",
       "      <th>sex</th>\n",
       "      <th>bmi</th>\n",
       "      <th>children</th>\n",
       "      <th>smoker</th>\n",
       "      <th>Claim_Amount</th>\n",
       "      <th>past_consultations</th>\n",
       "      <th>num_of_steps</th>\n",
       "      <th>Hospital_expenditure</th>\n",
       "      <th>NUmber_of_past_hospitalizations</th>\n",
       "      <th>Anual_Salary</th>\n",
       "      <th>region</th>\n",
       "      <th>charges</th>\n",
       "    </tr>\n",
       "  </thead>\n",
       "  <tbody>\n",
       "    <tr>\n",
       "      <th>0</th>\n",
       "      <td>18.0</td>\n",
       "      <td>male</td>\n",
       "      <td>23.210</td>\n",
       "      <td>0.0</td>\n",
       "      <td>no</td>\n",
       "      <td>29087.54313</td>\n",
       "      <td>17.0</td>\n",
       "      <td>715428.0</td>\n",
       "      <td>4.720921e+06</td>\n",
       "      <td>0.0</td>\n",
       "      <td>5.578497e+07</td>\n",
       "      <td>southeast</td>\n",
       "      <td>1121.87390</td>\n",
       "    </tr>\n",
       "    <tr>\n",
       "      <th>1</th>\n",
       "      <td>18.0</td>\n",
       "      <td>male</td>\n",
       "      <td>30.140</td>\n",
       "      <td>0.0</td>\n",
       "      <td>no</td>\n",
       "      <td>39053.67437</td>\n",
       "      <td>7.0</td>\n",
       "      <td>699157.0</td>\n",
       "      <td>4.329832e+06</td>\n",
       "      <td>0.0</td>\n",
       "      <td>1.370089e+07</td>\n",
       "      <td>southeast</td>\n",
       "      <td>1131.50660</td>\n",
       "    </tr>\n",
       "    <tr>\n",
       "      <th>2</th>\n",
       "      <td>18.0</td>\n",
       "      <td>male</td>\n",
       "      <td>33.330</td>\n",
       "      <td>0.0</td>\n",
       "      <td>no</td>\n",
       "      <td>39023.62759</td>\n",
       "      <td>19.0</td>\n",
       "      <td>702341.0</td>\n",
       "      <td>6.884861e+06</td>\n",
       "      <td>0.0</td>\n",
       "      <td>7.352311e+07</td>\n",
       "      <td>southeast</td>\n",
       "      <td>1135.94070</td>\n",
       "    </tr>\n",
       "    <tr>\n",
       "      <th>3</th>\n",
       "      <td>18.0</td>\n",
       "      <td>male</td>\n",
       "      <td>33.660</td>\n",
       "      <td>0.0</td>\n",
       "      <td>no</td>\n",
       "      <td>28185.39332</td>\n",
       "      <td>11.0</td>\n",
       "      <td>700250.0</td>\n",
       "      <td>4.274774e+06</td>\n",
       "      <td>0.0</td>\n",
       "      <td>7.581968e+07</td>\n",
       "      <td>southeast</td>\n",
       "      <td>1136.39940</td>\n",
       "    </tr>\n",
       "    <tr>\n",
       "      <th>4</th>\n",
       "      <td>18.0</td>\n",
       "      <td>male</td>\n",
       "      <td>34.100</td>\n",
       "      <td>0.0</td>\n",
       "      <td>no</td>\n",
       "      <td>14697.85941</td>\n",
       "      <td>16.0</td>\n",
       "      <td>711584.0</td>\n",
       "      <td>3.787294e+06</td>\n",
       "      <td>0.0</td>\n",
       "      <td>2.301232e+07</td>\n",
       "      <td>southeast</td>\n",
       "      <td>1137.01100</td>\n",
       "    </tr>\n",
       "    <tr>\n",
       "      <th>...</th>\n",
       "      <td>...</td>\n",
       "      <td>...</td>\n",
       "      <td>...</td>\n",
       "      <td>...</td>\n",
       "      <td>...</td>\n",
       "      <td>...</td>\n",
       "      <td>...</td>\n",
       "      <td>...</td>\n",
       "      <td>...</td>\n",
       "      <td>...</td>\n",
       "      <td>...</td>\n",
       "      <td>...</td>\n",
       "      <td>...</td>\n",
       "    </tr>\n",
       "    <tr>\n",
       "      <th>1333</th>\n",
       "      <td>33.0</td>\n",
       "      <td>female</td>\n",
       "      <td>35.530</td>\n",
       "      <td>0.0</td>\n",
       "      <td>yes</td>\n",
       "      <td>63142.25346</td>\n",
       "      <td>32.0</td>\n",
       "      <td>1091267.0</td>\n",
       "      <td>1.703805e+08</td>\n",
       "      <td>2.0</td>\n",
       "      <td>3.101107e+09</td>\n",
       "      <td>northwest</td>\n",
       "      <td>55135.40209</td>\n",
       "    </tr>\n",
       "    <tr>\n",
       "      <th>1334</th>\n",
       "      <td>31.0</td>\n",
       "      <td>female</td>\n",
       "      <td>38.095</td>\n",
       "      <td>1.0</td>\n",
       "      <td>yes</td>\n",
       "      <td>43419.95227</td>\n",
       "      <td>31.0</td>\n",
       "      <td>1107872.0</td>\n",
       "      <td>2.015152e+08</td>\n",
       "      <td>2.0</td>\n",
       "      <td>3.484216e+09</td>\n",
       "      <td>northeast</td>\n",
       "      <td>58571.07448</td>\n",
       "    </tr>\n",
       "    <tr>\n",
       "      <th>1335</th>\n",
       "      <td>52.0</td>\n",
       "      <td>male</td>\n",
       "      <td>34.485</td>\n",
       "      <td>3.0</td>\n",
       "      <td>yes</td>\n",
       "      <td>52458.92353</td>\n",
       "      <td>25.0</td>\n",
       "      <td>1092005.0</td>\n",
       "      <td>2.236450e+08</td>\n",
       "      <td>2.0</td>\n",
       "      <td>3.640807e+09</td>\n",
       "      <td>northwest</td>\n",
       "      <td>60021.39897</td>\n",
       "    </tr>\n",
       "    <tr>\n",
       "      <th>1336</th>\n",
       "      <td>45.0</td>\n",
       "      <td>male</td>\n",
       "      <td>30.360</td>\n",
       "      <td>0.0</td>\n",
       "      <td>yes</td>\n",
       "      <td>69927.51664</td>\n",
       "      <td>34.0</td>\n",
       "      <td>1106821.0</td>\n",
       "      <td>2.528924e+08</td>\n",
       "      <td>3.0</td>\n",
       "      <td>4.006359e+09</td>\n",
       "      <td>southeast</td>\n",
       "      <td>62592.87309</td>\n",
       "    </tr>\n",
       "    <tr>\n",
       "      <th>1337</th>\n",
       "      <td>54.0</td>\n",
       "      <td>female</td>\n",
       "      <td>47.410</td>\n",
       "      <td>0.0</td>\n",
       "      <td>yes</td>\n",
       "      <td>63982.80926</td>\n",
       "      <td>31.0</td>\n",
       "      <td>1100328.0</td>\n",
       "      <td>2.616317e+08</td>\n",
       "      <td>3.0</td>\n",
       "      <td>4.117197e+09</td>\n",
       "      <td>southeast</td>\n",
       "      <td>63770.42801</td>\n",
       "    </tr>\n",
       "  </tbody>\n",
       "</table>\n",
       "<p>1338 rows × 13 columns</p>\n",
       "</div>"
      ],
      "text/plain": [
       "       age     sex     bmi  children smoker  Claim_Amount  past_consultations  \\\n",
       "0     18.0    male  23.210       0.0     no   29087.54313                17.0   \n",
       "1     18.0    male  30.140       0.0     no   39053.67437                 7.0   \n",
       "2     18.0    male  33.330       0.0     no   39023.62759                19.0   \n",
       "3     18.0    male  33.660       0.0     no   28185.39332                11.0   \n",
       "4     18.0    male  34.100       0.0     no   14697.85941                16.0   \n",
       "...    ...     ...     ...       ...    ...           ...                 ...   \n",
       "1333  33.0  female  35.530       0.0    yes   63142.25346                32.0   \n",
       "1334  31.0  female  38.095       1.0    yes   43419.95227                31.0   \n",
       "1335  52.0    male  34.485       3.0    yes   52458.92353                25.0   \n",
       "1336  45.0    male  30.360       0.0    yes   69927.51664                34.0   \n",
       "1337  54.0  female  47.410       0.0    yes   63982.80926                31.0   \n",
       "\n",
       "      num_of_steps  Hospital_expenditure  NUmber_of_past_hospitalizations  \\\n",
       "0         715428.0          4.720921e+06                              0.0   \n",
       "1         699157.0          4.329832e+06                              0.0   \n",
       "2         702341.0          6.884861e+06                              0.0   \n",
       "3         700250.0          4.274774e+06                              0.0   \n",
       "4         711584.0          3.787294e+06                              0.0   \n",
       "...            ...                   ...                              ...   \n",
       "1333     1091267.0          1.703805e+08                              2.0   \n",
       "1334     1107872.0          2.015152e+08                              2.0   \n",
       "1335     1092005.0          2.236450e+08                              2.0   \n",
       "1336     1106821.0          2.528924e+08                              3.0   \n",
       "1337     1100328.0          2.616317e+08                              3.0   \n",
       "\n",
       "      Anual_Salary     region      charges  \n",
       "0     5.578497e+07  southeast   1121.87390  \n",
       "1     1.370089e+07  southeast   1131.50660  \n",
       "2     7.352311e+07  southeast   1135.94070  \n",
       "3     7.581968e+07  southeast   1136.39940  \n",
       "4     2.301232e+07  southeast   1137.01100  \n",
       "...            ...        ...          ...  \n",
       "1333  3.101107e+09  northwest  55135.40209  \n",
       "1334  3.484216e+09  northeast  58571.07448  \n",
       "1335  3.640807e+09  northwest  60021.39897  \n",
       "1336  4.006359e+09  southeast  62592.87309  \n",
       "1337  4.117197e+09  southeast  63770.42801  \n",
       "\n",
       "[1338 rows x 13 columns]"
      ]
     },
     "execution_count": 6,
     "metadata": {},
     "output_type": "execute_result"
    }
   ],
   "source": [
    "insurance=pd.read_csv(\"new_insurance_data.csv\")\n",
    "insurance"
   ]
  },
  {
   "cell_type": "code",
   "execution_count": 8,
   "id": "bf87c1d8-bff5-4812-a8d2-bdb1421b3e83",
   "metadata": {},
   "outputs": [
    {
     "data": {
      "text/plain": [
       "(1338, 13)"
      ]
     },
     "execution_count": 8,
     "metadata": {},
     "output_type": "execute_result"
    }
   ],
   "source": [
    "insurance.shape"
   ]
  },
  {
   "cell_type": "code",
   "execution_count": 9,
   "id": "e9753b5a-1934-4064-b498-a418c204fcfc",
   "metadata": {},
   "outputs": [
    {
     "data": {
      "text/plain": [
       "age                                 9\n",
       "sex                                 0\n",
       "bmi                                 3\n",
       "children                            5\n",
       "smoker                              0\n",
       "Claim_Amount                       14\n",
       "past_consultations                  6\n",
       "num_of_steps                        3\n",
       "Hospital_expenditure                4\n",
       "NUmber_of_past_hospitalizations     2\n",
       "Anual_Salary                        6\n",
       "region                              0\n",
       "charges                             0\n",
       "dtype: int64"
      ]
     },
     "execution_count": 9,
     "metadata": {},
     "output_type": "execute_result"
    }
   ],
   "source": [
    "insurance.isnull().sum()"
   ]
  },
  {
   "cell_type": "code",
   "execution_count": 10,
   "id": "88f5e296-8ead-4df7-ba81-7ecca3bd8b72",
   "metadata": {},
   "outputs": [
    {
     "data": {
      "text/plain": [
       "Index(['age', 'sex', 'bmi', 'children', 'smoker', 'Claim_Amount',\n",
       "       'past_consultations', 'num_of_steps', 'Hospital_expenditure',\n",
       "       'NUmber_of_past_hospitalizations', 'Anual_Salary', 'region', 'charges'],\n",
       "      dtype='object')"
      ]
     },
     "execution_count": 10,
     "metadata": {},
     "output_type": "execute_result"
    }
   ],
   "source": [
    "insurance.columns"
   ]
  },
  {
   "cell_type": "code",
   "execution_count": 11,
   "id": "653163e0-3b2d-4a5c-8c33-4988ac450836",
   "metadata": {},
   "outputs": [],
   "source": [
    "for i in insurance.columns:\n",
    "    if insurance[i].dtypes=='object':\n",
    "        insurance[i]= insurance[i].fillna(insurance[i].mode()[0])\n",
    "    else:\n",
    "        insurance[i]= insurance[i].fillna(insurance[i].mean())"
   ]
  },
  {
   "cell_type": "code",
   "execution_count": 12,
   "id": "5030a99d-17db-4fad-863e-9514fe19a1ba",
   "metadata": {},
   "outputs": [
    {
     "data": {
      "text/plain": [
       "age                                0\n",
       "sex                                0\n",
       "bmi                                0\n",
       "children                           0\n",
       "smoker                             0\n",
       "Claim_Amount                       0\n",
       "past_consultations                 0\n",
       "num_of_steps                       0\n",
       "Hospital_expenditure               0\n",
       "NUmber_of_past_hospitalizations    0\n",
       "Anual_Salary                       0\n",
       "region                             0\n",
       "charges                            0\n",
       "dtype: int64"
      ]
     },
     "execution_count": 12,
     "metadata": {},
     "output_type": "execute_result"
    }
   ],
   "source": [
    "insurance.isnull().sum()"
   ]
  },
  {
   "cell_type": "code",
   "execution_count": 16,
   "id": "fb0b28b3-c599-4f3c-ae94-2461397574be",
   "metadata": {},
   "outputs": [],
   "source": [
    "for i in insurance.columns:\n",
    "    if ((insurance[i].dtypes=='int64') & ( insurance[i].dtypes=='float64')):\n",
    "        plt.histplot(insurance[i])\n",
    "        plt.xlabel(i)\n",
    "        plt.ylabel(\"count\")\n",
    "        plt.show()"
   ]
  },
  {
   "cell_type": "code",
   "execution_count": 17,
   "id": "e167e5f5-4440-4d13-ac67-5d105ccf5608",
   "metadata": {},
   "outputs": [],
   "source": [
    "for i in insurance.columns:\n",
    "     if ((insurance[i].dtypes=='int64') & ( insurance[i].dtypes=='float64')):\n",
    "        plt.boxplot(insurance[i])\n",
    "        plt.xlabel(i)\n",
    "        plt.ylabel(\"count\")\n",
    "        plt.show()\n",
    "    "
   ]
  },
  {
   "cell_type": "code",
   "execution_count": 18,
   "id": "66e26113-9c7a-487e-8ca3-e17d1f4cab2a",
   "metadata": {},
   "outputs": [
    {
     "data": {
      "text/plain": [
       "Index(['age', 'sex', 'bmi', 'children', 'smoker', 'Claim_Amount',\n",
       "       'past_consultations', 'num_of_steps', 'Hospital_expenditure',\n",
       "       'NUmber_of_past_hospitalizations', 'Anual_Salary', 'region', 'charges'],\n",
       "      dtype='object')"
      ]
     },
     "execution_count": 18,
     "metadata": {},
     "output_type": "execute_result"
    }
   ],
   "source": [
    "insurance.columns"
   ]
  },
  {
   "cell_type": "code",
   "execution_count": 19,
   "id": "55d58607-0af4-4d35-967c-3696c182f481",
   "metadata": {},
   "outputs": [],
   "source": [
    "col_list=[ 'bmi', \n",
    "       'past_consultations',  'Hospital_expenditure',\n",
    "       'Anual_Salary']"
   ]
  },
  {
   "cell_type": "code",
   "execution_count": 20,
   "id": "1255de9e-a8b7-4a6e-a263-664371096c24",
   "metadata": {},
   "outputs": [],
   "source": [
    "for i in col_list:\n",
    "    Q1= insurance[i].quantile(0.25)\n",
    "    Q3= insurance[i].quantile(0.75)\n",
    "    IQR=Q3-Q1\n",
    "    insurance = insurance[(insurance[i]>Q1-1.5*IQR)&(insurance[i]<Q3+1.5*IQR)]"
   ]
  },
  {
   "cell_type": "code",
   "execution_count": 21,
   "id": "987b6f98-a484-48b0-8340-320a58c90ba6",
   "metadata": {},
   "outputs": [
    {
     "data": {
      "text/plain": [
       "(1030, 13)"
      ]
     },
     "execution_count": 21,
     "metadata": {},
     "output_type": "execute_result"
    }
   ],
   "source": [
    "insurance.shape"
   ]
  },
  {
   "cell_type": "code",
   "execution_count": 22,
   "id": "c1d6287c-08e2-4c84-8048-e4c0008fc8a7",
   "metadata": {},
   "outputs": [
    {
     "data": {
      "text/plain": [
       "0"
      ]
     },
     "execution_count": 22,
     "metadata": {},
     "output_type": "execute_result"
    }
   ],
   "source": [
    "insurance.duplicated().sum()"
   ]
  },
  {
   "cell_type": "code",
   "execution_count": 28,
   "id": "a342a3ff-1695-4a0d-9701-f8caff846a36",
   "metadata": {},
   "outputs": [],
   "source": [
    "#to check Multi Collinearity\n",
    "from statsmodels.stats.outliers_influence import variance_inflation_factor"
   ]
  },
  {
   "cell_type": "raw",
   "id": "59163ce9-c1bb-4c78-a2e7-af4883dbb92b",
   "metadata": {},
   "source": [
    " #to store names of numeric columns"
   ]
  },
  {
   "cell_type": "code",
   "execution_count": 30,
   "id": "6e469522-5881-41af-b722-cc0986dd9b4e",
   "metadata": {},
   "outputs": [],
   "source": [
    "col_list=[]"
   ]
  },
  {
   "cell_type": "code",
   "execution_count": 31,
   "id": "3eb070f9-543b-4758-b0df-3ca7021221d1",
   "metadata": {},
   "outputs": [],
   "source": [
    "for i in insurance.columns:\n",
    "    if((insurance[i].dtypes!=\"object\") & ( i!=\"charges\")):\n",
    "        col_list.append(i)"
   ]
  },
  {
   "cell_type": "code",
   "execution_count": 32,
   "id": "1969329b-1a1b-4f72-90a4-8428fb2f814a",
   "metadata": {},
   "outputs": [],
   "source": [
    "#creating new dataframe\n",
    "X=insurance[col_list]"
   ]
  },
  {
   "cell_type": "code",
   "execution_count": 36,
   "id": "509b7e83-6201-4724-9e48-bbe991faa4a2",
   "metadata": {},
   "outputs": [
    {
     "data": {
      "text/html": [
       "<div>\n",
       "<style scoped>\n",
       "    .dataframe tbody tr th:only-of-type {\n",
       "        vertical-align: middle;\n",
       "    }\n",
       "\n",
       "    .dataframe tbody tr th {\n",
       "        vertical-align: top;\n",
       "    }\n",
       "\n",
       "    .dataframe thead th {\n",
       "        text-align: right;\n",
       "    }\n",
       "</style>\n",
       "<table border=\"1\" class=\"dataframe\">\n",
       "  <thead>\n",
       "    <tr style=\"text-align: right;\">\n",
       "      <th></th>\n",
       "      <th>features</th>\n",
       "      <th>VIF</th>\n",
       "    </tr>\n",
       "  </thead>\n",
       "  <tbody>\n",
       "    <tr>\n",
       "      <th>0</th>\n",
       "      <td>age</td>\n",
       "      <td>15.452095</td>\n",
       "    </tr>\n",
       "    <tr>\n",
       "      <th>1</th>\n",
       "      <td>bmi</td>\n",
       "      <td>26.330788</td>\n",
       "    </tr>\n",
       "    <tr>\n",
       "      <th>2</th>\n",
       "      <td>children</td>\n",
       "      <td>2.029618</td>\n",
       "    </tr>\n",
       "    <tr>\n",
       "      <th>3</th>\n",
       "      <td>Claim_Amount</td>\n",
       "      <td>5.678660</td>\n",
       "    </tr>\n",
       "    <tr>\n",
       "      <th>4</th>\n",
       "      <td>past_consultations</td>\n",
       "      <td>6.258017</td>\n",
       "    </tr>\n",
       "    <tr>\n",
       "      <th>5</th>\n",
       "      <td>num_of_steps</td>\n",
       "      <td>61.574692</td>\n",
       "    </tr>\n",
       "    <tr>\n",
       "      <th>6</th>\n",
       "      <td>Hospital_expenditure</td>\n",
       "      <td>5.204376</td>\n",
       "    </tr>\n",
       "    <tr>\n",
       "      <th>7</th>\n",
       "      <td>NUmber_of_past_hospitalizations</td>\n",
       "      <td>12.052060</td>\n",
       "    </tr>\n",
       "    <tr>\n",
       "      <th>8</th>\n",
       "      <td>Anual_Salary</td>\n",
       "      <td>5.481823</td>\n",
       "    </tr>\n",
       "  </tbody>\n",
       "</table>\n",
       "</div>"
      ],
      "text/plain": [
       "                          features        VIF\n",
       "0                              age  15.452095\n",
       "1                              bmi  26.330788\n",
       "2                         children   2.029618\n",
       "3                     Claim_Amount   5.678660\n",
       "4               past_consultations   6.258017\n",
       "5                     num_of_steps  61.574692\n",
       "6             Hospital_expenditure   5.204376\n",
       "7  NUmber_of_past_hospitalizations  12.052060\n",
       "8                     Anual_Salary   5.481823"
      ]
     },
     "execution_count": 36,
     "metadata": {},
     "output_type": "execute_result"
    }
   ],
   "source": [
    "#creating new dataframe to store the VIF values\n",
    "vif_data=pd.DataFrame()\n",
    "vif_data[\"features\"]=X.columns\n",
    "vif_data[\"VIF\"]=[variance_inflation_factor(X.values,i) for i in range(len(X.columns))]\n",
    "vif_data"
   ]
  },
  {
   "cell_type": "code",
   "execution_count": 38,
   "id": "41cf3df5-fc9f-4727-b8a6-7bf90efd8312",
   "metadata": {},
   "outputs": [],
   "source": [
    "insurance=insurance.drop([\"num_of_steps\"],axis=1)"
   ]
  },
  {
   "cell_type": "code",
   "execution_count": 40,
   "id": "035477b5-d115-4093-8341-97e5846f4cbd",
   "metadata": {},
   "outputs": [
    {
     "data": {
      "text/html": [
       "<div>\n",
       "<style scoped>\n",
       "    .dataframe tbody tr th:only-of-type {\n",
       "        vertical-align: middle;\n",
       "    }\n",
       "\n",
       "    .dataframe tbody tr th {\n",
       "        vertical-align: top;\n",
       "    }\n",
       "\n",
       "    .dataframe thead th {\n",
       "        text-align: right;\n",
       "    }\n",
       "</style>\n",
       "<table border=\"1\" class=\"dataframe\">\n",
       "  <thead>\n",
       "    <tr style=\"text-align: right;\">\n",
       "      <th></th>\n",
       "      <th>features</th>\n",
       "      <th>VIF</th>\n",
       "    </tr>\n",
       "  </thead>\n",
       "  <tbody>\n",
       "    <tr>\n",
       "      <th>0</th>\n",
       "      <td>age</td>\n",
       "      <td>14.484893</td>\n",
       "    </tr>\n",
       "    <tr>\n",
       "      <th>1</th>\n",
       "      <td>bmi</td>\n",
       "      <td>12.261123</td>\n",
       "    </tr>\n",
       "    <tr>\n",
       "      <th>2</th>\n",
       "      <td>children</td>\n",
       "      <td>2.017441</td>\n",
       "    </tr>\n",
       "    <tr>\n",
       "      <th>3</th>\n",
       "      <td>Claim_Amount</td>\n",
       "      <td>5.243640</td>\n",
       "    </tr>\n",
       "    <tr>\n",
       "      <th>4</th>\n",
       "      <td>past_consultations</td>\n",
       "      <td>5.842169</td>\n",
       "    </tr>\n",
       "    <tr>\n",
       "      <th>5</th>\n",
       "      <td>Hospital_expenditure</td>\n",
       "      <td>4.929952</td>\n",
       "    </tr>\n",
       "    <tr>\n",
       "      <th>6</th>\n",
       "      <td>NUmber_of_past_hospitalizations</td>\n",
       "      <td>10.687768</td>\n",
       "    </tr>\n",
       "    <tr>\n",
       "      <th>7</th>\n",
       "      <td>Anual_Salary</td>\n",
       "      <td>5.380679</td>\n",
       "    </tr>\n",
       "  </tbody>\n",
       "</table>\n",
       "</div>"
      ],
      "text/plain": [
       "                          features        VIF\n",
       "0                              age  14.484893\n",
       "1                              bmi  12.261123\n",
       "2                         children   2.017441\n",
       "3                     Claim_Amount   5.243640\n",
       "4               past_consultations   5.842169\n",
       "5             Hospital_expenditure   4.929952\n",
       "6  NUmber_of_past_hospitalizations  10.687768\n",
       "7                     Anual_Salary   5.380679"
      ]
     },
     "execution_count": 40,
     "metadata": {},
     "output_type": "execute_result"
    }
   ],
   "source": [
    "col_list=[]\n",
    "for i in insurance.columns:\n",
    "    if((insurance[i].dtypes!=\"object\") & ( i!=\"charges\")):\n",
    "        col_list.append(i)\n",
    "\n",
    "X=insurance[col_list]\n",
    "#creating new dataframe to store the VIF values\n",
    "vif_data=pd.DataFrame()\n",
    "vif_data[\"features\"]=X.columns\n",
    "vif_data[\"VIF\"]=[variance_inflation_factor(X.values,i) for i in range(len(X.columns))]\n",
    "vif_data"
   ]
  },
  {
   "cell_type": "code",
   "execution_count": 41,
   "id": "fd5b6332-cf7c-4ccc-889d-1f5a3eb34d19",
   "metadata": {},
   "outputs": [],
   "source": [
    "insurance=insurance.drop([\"age\"],axis=1)"
   ]
  },
  {
   "cell_type": "code",
   "execution_count": 42,
   "id": "fecb944f-1550-460d-b2db-ebf71d97ffc3",
   "metadata": {},
   "outputs": [
    {
     "data": {
      "text/html": [
       "<div>\n",
       "<style scoped>\n",
       "    .dataframe tbody tr th:only-of-type {\n",
       "        vertical-align: middle;\n",
       "    }\n",
       "\n",
       "    .dataframe tbody tr th {\n",
       "        vertical-align: top;\n",
       "    }\n",
       "\n",
       "    .dataframe thead th {\n",
       "        text-align: right;\n",
       "    }\n",
       "</style>\n",
       "<table border=\"1\" class=\"dataframe\">\n",
       "  <thead>\n",
       "    <tr style=\"text-align: right;\">\n",
       "      <th></th>\n",
       "      <th>features</th>\n",
       "      <th>VIF</th>\n",
       "    </tr>\n",
       "  </thead>\n",
       "  <tbody>\n",
       "    <tr>\n",
       "      <th>0</th>\n",
       "      <td>bmi</td>\n",
       "      <td>10.323093</td>\n",
       "    </tr>\n",
       "    <tr>\n",
       "      <th>1</th>\n",
       "      <td>children</td>\n",
       "      <td>1.978843</td>\n",
       "    </tr>\n",
       "    <tr>\n",
       "      <th>2</th>\n",
       "      <td>Claim_Amount</td>\n",
       "      <td>5.228284</td>\n",
       "    </tr>\n",
       "    <tr>\n",
       "      <th>3</th>\n",
       "      <td>past_consultations</td>\n",
       "      <td>5.821933</td>\n",
       "    </tr>\n",
       "    <tr>\n",
       "      <th>4</th>\n",
       "      <td>Hospital_expenditure</td>\n",
       "      <td>4.929287</td>\n",
       "    </tr>\n",
       "    <tr>\n",
       "      <th>5</th>\n",
       "      <td>NUmber_of_past_hospitalizations</td>\n",
       "      <td>8.310570</td>\n",
       "    </tr>\n",
       "    <tr>\n",
       "      <th>6</th>\n",
       "      <td>Anual_Salary</td>\n",
       "      <td>4.723495</td>\n",
       "    </tr>\n",
       "  </tbody>\n",
       "</table>\n",
       "</div>"
      ],
      "text/plain": [
       "                          features        VIF\n",
       "0                              bmi  10.323093\n",
       "1                         children   1.978843\n",
       "2                     Claim_Amount   5.228284\n",
       "3               past_consultations   5.821933\n",
       "4             Hospital_expenditure   4.929287\n",
       "5  NUmber_of_past_hospitalizations   8.310570\n",
       "6                     Anual_Salary   4.723495"
      ]
     },
     "execution_count": 42,
     "metadata": {},
     "output_type": "execute_result"
    }
   ],
   "source": [
    "col_list=[]\n",
    "for i in insurance.columns:\n",
    "    if((insurance[i].dtypes!=\"object\") & ( i!=\"charges\")):\n",
    "        col_list.append(i)\n",
    "\n",
    "X=insurance[col_list]\n",
    "#creating new dataframe to store the VIF values\n",
    "vif_data=pd.DataFrame()\n",
    "vif_data[\"features\"]=X.columns\n",
    "vif_data[\"VIF\"]=[variance_inflation_factor(X.values,i) for i in range(len(X.columns))]\n",
    "vif_data"
   ]
  },
  {
   "cell_type": "code",
   "execution_count": 43,
   "id": "85fa3df1-056a-4f29-a77b-06050d106333",
   "metadata": {},
   "outputs": [],
   "source": [
    "insurance=insurance.drop([\"bmi\"],axis=1)"
   ]
  },
  {
   "cell_type": "code",
   "execution_count": 44,
   "id": "80f0cfd2-5070-4391-bf89-27e799ca40d6",
   "metadata": {},
   "outputs": [
    {
     "data": {
      "text/html": [
       "<div>\n",
       "<style scoped>\n",
       "    .dataframe tbody tr th:only-of-type {\n",
       "        vertical-align: middle;\n",
       "    }\n",
       "\n",
       "    .dataframe tbody tr th {\n",
       "        vertical-align: top;\n",
       "    }\n",
       "\n",
       "    .dataframe thead th {\n",
       "        text-align: right;\n",
       "    }\n",
       "</style>\n",
       "<table border=\"1\" class=\"dataframe\">\n",
       "  <thead>\n",
       "    <tr style=\"text-align: right;\">\n",
       "      <th></th>\n",
       "      <th>features</th>\n",
       "      <th>VIF</th>\n",
       "    </tr>\n",
       "  </thead>\n",
       "  <tbody>\n",
       "    <tr>\n",
       "      <th>0</th>\n",
       "      <td>children</td>\n",
       "      <td>1.977037</td>\n",
       "    </tr>\n",
       "    <tr>\n",
       "      <th>1</th>\n",
       "      <td>Claim_Amount</td>\n",
       "      <td>4.547332</td>\n",
       "    </tr>\n",
       "    <tr>\n",
       "      <th>2</th>\n",
       "      <td>past_consultations</td>\n",
       "      <td>5.049165</td>\n",
       "    </tr>\n",
       "    <tr>\n",
       "      <th>3</th>\n",
       "      <td>Hospital_expenditure</td>\n",
       "      <td>4.492630</td>\n",
       "    </tr>\n",
       "    <tr>\n",
       "      <th>4</th>\n",
       "      <td>NUmber_of_past_hospitalizations</td>\n",
       "      <td>7.245972</td>\n",
       "    </tr>\n",
       "    <tr>\n",
       "      <th>5</th>\n",
       "      <td>Anual_Salary</td>\n",
       "      <td>4.688833</td>\n",
       "    </tr>\n",
       "  </tbody>\n",
       "</table>\n",
       "</div>"
      ],
      "text/plain": [
       "                          features       VIF\n",
       "0                         children  1.977037\n",
       "1                     Claim_Amount  4.547332\n",
       "2               past_consultations  5.049165\n",
       "3             Hospital_expenditure  4.492630\n",
       "4  NUmber_of_past_hospitalizations  7.245972\n",
       "5                     Anual_Salary  4.688833"
      ]
     },
     "execution_count": 44,
     "metadata": {},
     "output_type": "execute_result"
    }
   ],
   "source": [
    "col_list=[]\n",
    "for i in insurance.columns:\n",
    "    if((insurance[i].dtypes!=\"object\") & ( i!=\"charges\")):\n",
    "        col_list.append(i)\n",
    "\n",
    "X=insurance[col_list]\n",
    "#creating new dataframe to store the VIF values\n",
    "vif_data=pd.DataFrame()\n",
    "vif_data[\"features\"]=X.columns\n",
    "vif_data[\"VIF\"]=[variance_inflation_factor(X.values,i) for i in range(len(X.columns))]\n",
    "vif_data"
   ]
  },
  {
   "cell_type": "code",
   "execution_count": 45,
   "id": "5b4f96b4-79e2-4812-b752-89b76ebd30a2",
   "metadata": {},
   "outputs": [],
   "source": [
    "insurance=insurance.drop([\"NUmber_of_past_hospitalizations\"],axis=1)"
   ]
  },
  {
   "cell_type": "code",
   "execution_count": 46,
   "id": "a8459cb1-97ab-4b2e-b3ae-20e9f8dad98d",
   "metadata": {},
   "outputs": [
    {
     "data": {
      "text/html": [
       "<div>\n",
       "<style scoped>\n",
       "    .dataframe tbody tr th:only-of-type {\n",
       "        vertical-align: middle;\n",
       "    }\n",
       "\n",
       "    .dataframe tbody tr th {\n",
       "        vertical-align: top;\n",
       "    }\n",
       "\n",
       "    .dataframe thead th {\n",
       "        text-align: right;\n",
       "    }\n",
       "</style>\n",
       "<table border=\"1\" class=\"dataframe\">\n",
       "  <thead>\n",
       "    <tr style=\"text-align: right;\">\n",
       "      <th></th>\n",
       "      <th>features</th>\n",
       "      <th>VIF</th>\n",
       "    </tr>\n",
       "  </thead>\n",
       "  <tbody>\n",
       "    <tr>\n",
       "      <th>0</th>\n",
       "      <td>children</td>\n",
       "      <td>1.713101</td>\n",
       "    </tr>\n",
       "    <tr>\n",
       "      <th>1</th>\n",
       "      <td>Claim_Amount</td>\n",
       "      <td>4.152224</td>\n",
       "    </tr>\n",
       "    <tr>\n",
       "      <th>2</th>\n",
       "      <td>past_consultations</td>\n",
       "      <td>4.670212</td>\n",
       "    </tr>\n",
       "    <tr>\n",
       "      <th>3</th>\n",
       "      <td>Hospital_expenditure</td>\n",
       "      <td>4.320876</td>\n",
       "    </tr>\n",
       "    <tr>\n",
       "      <th>4</th>\n",
       "      <td>Anual_Salary</td>\n",
       "      <td>4.279483</td>\n",
       "    </tr>\n",
       "  </tbody>\n",
       "</table>\n",
       "</div>"
      ],
      "text/plain": [
       "               features       VIF\n",
       "0              children  1.713101\n",
       "1          Claim_Amount  4.152224\n",
       "2    past_consultations  4.670212\n",
       "3  Hospital_expenditure  4.320876\n",
       "4          Anual_Salary  4.279483"
      ]
     },
     "execution_count": 46,
     "metadata": {},
     "output_type": "execute_result"
    }
   ],
   "source": [
    "col_list=[]\n",
    "for i in insurance.columns:\n",
    "    if((insurance[i].dtypes!=\"object\") & ( i!=\"charges\")):\n",
    "        col_list.append(i)\n",
    "\n",
    "X=insurance[col_list]\n",
    "#creating new dataframe to store the VIF values\n",
    "vif_data=pd.DataFrame()\n",
    "vif_data[\"features\"]=X.columns\n",
    "vif_data[\"VIF\"]=[variance_inflation_factor(X.values,i) for i in range(len(X.columns))]\n",
    "vif_data"
   ]
  },
  {
   "cell_type": "code",
   "execution_count": 47,
   "id": "684eb3c8-bf6c-4c6d-9c6e-7160ae076a9f",
   "metadata": {},
   "outputs": [
    {
     "data": {
      "text/html": [
       "<div>\n",
       "<style scoped>\n",
       "    .dataframe tbody tr th:only-of-type {\n",
       "        vertical-align: middle;\n",
       "    }\n",
       "\n",
       "    .dataframe tbody tr th {\n",
       "        vertical-align: top;\n",
       "    }\n",
       "\n",
       "    .dataframe thead th {\n",
       "        text-align: right;\n",
       "    }\n",
       "</style>\n",
       "<table border=\"1\" class=\"dataframe\">\n",
       "  <thead>\n",
       "    <tr style=\"text-align: right;\">\n",
       "      <th></th>\n",
       "      <th>children</th>\n",
       "      <th>Claim_Amount</th>\n",
       "      <th>past_consultations</th>\n",
       "      <th>Hospital_expenditure</th>\n",
       "      <th>Anual_Salary</th>\n",
       "    </tr>\n",
       "  </thead>\n",
       "  <tbody>\n",
       "    <tr>\n",
       "      <th>0</th>\n",
       "      <td>0.0</td>\n",
       "      <td>29087.54313</td>\n",
       "      <td>17.0</td>\n",
       "      <td>4.720921e+06</td>\n",
       "      <td>5.578497e+07</td>\n",
       "    </tr>\n",
       "    <tr>\n",
       "      <th>1</th>\n",
       "      <td>0.0</td>\n",
       "      <td>39053.67437</td>\n",
       "      <td>7.0</td>\n",
       "      <td>4.329832e+06</td>\n",
       "      <td>1.370089e+07</td>\n",
       "    </tr>\n",
       "    <tr>\n",
       "      <th>2</th>\n",
       "      <td>0.0</td>\n",
       "      <td>39023.62759</td>\n",
       "      <td>19.0</td>\n",
       "      <td>6.884861e+06</td>\n",
       "      <td>7.352311e+07</td>\n",
       "    </tr>\n",
       "    <tr>\n",
       "      <th>3</th>\n",
       "      <td>0.0</td>\n",
       "      <td>28185.39332</td>\n",
       "      <td>11.0</td>\n",
       "      <td>4.274774e+06</td>\n",
       "      <td>7.581968e+07</td>\n",
       "    </tr>\n",
       "    <tr>\n",
       "      <th>4</th>\n",
       "      <td>0.0</td>\n",
       "      <td>14697.85941</td>\n",
       "      <td>16.0</td>\n",
       "      <td>3.787294e+06</td>\n",
       "      <td>2.301232e+07</td>\n",
       "    </tr>\n",
       "    <tr>\n",
       "      <th>...</th>\n",
       "      <td>...</td>\n",
       "      <td>...</td>\n",
       "      <td>...</td>\n",
       "      <td>...</td>\n",
       "      <td>...</td>\n",
       "    </tr>\n",
       "    <tr>\n",
       "      <th>1046</th>\n",
       "      <td>1.0</td>\n",
       "      <td>51168.25474</td>\n",
       "      <td>23.0</td>\n",
       "      <td>1.665982e+07</td>\n",
       "      <td>3.712188e+08</td>\n",
       "    </tr>\n",
       "    <tr>\n",
       "      <th>1048</th>\n",
       "      <td>3.0</td>\n",
       "      <td>46619.40230</td>\n",
       "      <td>27.0</td>\n",
       "      <td>1.361938e+07</td>\n",
       "      <td>3.812895e+08</td>\n",
       "    </tr>\n",
       "    <tr>\n",
       "      <th>1050</th>\n",
       "      <td>0.0</td>\n",
       "      <td>24382.58056</td>\n",
       "      <td>21.0</td>\n",
       "      <td>1.028991e+07</td>\n",
       "      <td>3.745310e+08</td>\n",
       "    </tr>\n",
       "    <tr>\n",
       "      <th>1062</th>\n",
       "      <td>2.0</td>\n",
       "      <td>21596.43846</td>\n",
       "      <td>10.0</td>\n",
       "      <td>1.083030e+07</td>\n",
       "      <td>3.696849e+08</td>\n",
       "    </tr>\n",
       "    <tr>\n",
       "      <th>1069</th>\n",
       "      <td>0.0</td>\n",
       "      <td>17200.14586</td>\n",
       "      <td>15.0</td>\n",
       "      <td>1.247744e+07</td>\n",
       "      <td>3.696849e+08</td>\n",
       "    </tr>\n",
       "  </tbody>\n",
       "</table>\n",
       "<p>1030 rows × 5 columns</p>\n",
       "</div>"
      ],
      "text/plain": [
       "      children  Claim_Amount  past_consultations  Hospital_expenditure  \\\n",
       "0          0.0   29087.54313                17.0          4.720921e+06   \n",
       "1          0.0   39053.67437                 7.0          4.329832e+06   \n",
       "2          0.0   39023.62759                19.0          6.884861e+06   \n",
       "3          0.0   28185.39332                11.0          4.274774e+06   \n",
       "4          0.0   14697.85941                16.0          3.787294e+06   \n",
       "...        ...           ...                 ...                   ...   \n",
       "1046       1.0   51168.25474                23.0          1.665982e+07   \n",
       "1048       3.0   46619.40230                27.0          1.361938e+07   \n",
       "1050       0.0   24382.58056                21.0          1.028991e+07   \n",
       "1062       2.0   21596.43846                10.0          1.083030e+07   \n",
       "1069       0.0   17200.14586                15.0          1.247744e+07   \n",
       "\n",
       "      Anual_Salary  \n",
       "0     5.578497e+07  \n",
       "1     1.370089e+07  \n",
       "2     7.352311e+07  \n",
       "3     7.581968e+07  \n",
       "4     2.301232e+07  \n",
       "...            ...  \n",
       "1046  3.712188e+08  \n",
       "1048  3.812895e+08  \n",
       "1050  3.745310e+08  \n",
       "1062  3.696849e+08  \n",
       "1069  3.696849e+08  \n",
       "\n",
       "[1030 rows x 5 columns]"
      ]
     },
     "execution_count": 47,
     "metadata": {},
     "output_type": "execute_result"
    }
   ],
   "source": [
    "X"
   ]
  },
  {
   "cell_type": "code",
   "execution_count": 49,
   "id": "4cb75901-86fc-4fc8-8dbd-4531d15a686f",
   "metadata": {},
   "outputs": [
    {
     "data": {
      "text/plain": [
       "0        1121.87390\n",
       "1        1131.50660\n",
       "2        1135.94070\n",
       "3        1136.39940\n",
       "4        1137.01100\n",
       "           ...     \n",
       "1046    19107.77960\n",
       "1048    19199.94400\n",
       "1050    19350.36890\n",
       "1062    19798.05455\n",
       "1069    20234.85475\n",
       "Name: charges, Length: 1030, dtype: float64"
      ]
     },
     "execution_count": 49,
     "metadata": {},
     "output_type": "execute_result"
    }
   ],
   "source": [
    "y=insurance.iloc[:,-1] #to consider all rows and only the last column\n",
    "y"
   ]
  },
  {
   "cell_type": "code",
   "execution_count": 53,
   "id": "da644815-f594-4efa-a5dc-709cc40b98c7",
   "metadata": {},
   "outputs": [],
   "source": [
    "#Dividing the data into train and test"
   ]
  },
  {
   "cell_type": "code",
   "execution_count": 54,
   "id": "35ba554a-0a7c-4b1a-bb69-3926295a4080",
   "metadata": {},
   "outputs": [],
   "source": [
    "from sklearn.linear_model import LinearRegression\n",
    "from sklearn.model_selection import train_test_split"
   ]
  },
  {
   "cell_type": "code",
   "execution_count": 57,
   "id": "039d0e28-003e-49c9-87dd-df6f1270c992",
   "metadata": {},
   "outputs": [],
   "source": [
    "x_train,x_test, y_train, y_test= train_test_split(X,y, test_size=0.2)"
   ]
  },
  {
   "cell_type": "code",
   "execution_count": 58,
   "id": "abddb01a-ee2b-427e-8083-7c7bd5ed7382",
   "metadata": {},
   "outputs": [],
   "source": [
    "#now we need to build the model\n",
    "#Creating an object for the model\n",
    "l_model=LinearRegression()"
   ]
  },
  {
   "cell_type": "code",
   "execution_count": 59,
   "id": "9776e114-cb20-4c25-b586-00eb7d458ab4",
   "metadata": {},
   "outputs": [
    {
     "data": {
      "text/html": [
       "<style>#sk-container-id-1 {color: black;}#sk-container-id-1 pre{padding: 0;}#sk-container-id-1 div.sk-toggleable {background-color: white;}#sk-container-id-1 label.sk-toggleable__label {cursor: pointer;display: block;width: 100%;margin-bottom: 0;padding: 0.3em;box-sizing: border-box;text-align: center;}#sk-container-id-1 label.sk-toggleable__label-arrow:before {content: \"▸\";float: left;margin-right: 0.25em;color: #696969;}#sk-container-id-1 label.sk-toggleable__label-arrow:hover:before {color: black;}#sk-container-id-1 div.sk-estimator:hover label.sk-toggleable__label-arrow:before {color: black;}#sk-container-id-1 div.sk-toggleable__content {max-height: 0;max-width: 0;overflow: hidden;text-align: left;background-color: #f0f8ff;}#sk-container-id-1 div.sk-toggleable__content pre {margin: 0.2em;color: black;border-radius: 0.25em;background-color: #f0f8ff;}#sk-container-id-1 input.sk-toggleable__control:checked~div.sk-toggleable__content {max-height: 200px;max-width: 100%;overflow: auto;}#sk-container-id-1 input.sk-toggleable__control:checked~label.sk-toggleable__label-arrow:before {content: \"▾\";}#sk-container-id-1 div.sk-estimator input.sk-toggleable__control:checked~label.sk-toggleable__label {background-color: #d4ebff;}#sk-container-id-1 div.sk-label input.sk-toggleable__control:checked~label.sk-toggleable__label {background-color: #d4ebff;}#sk-container-id-1 input.sk-hidden--visually {border: 0;clip: rect(1px 1px 1px 1px);clip: rect(1px, 1px, 1px, 1px);height: 1px;margin: -1px;overflow: hidden;padding: 0;position: absolute;width: 1px;}#sk-container-id-1 div.sk-estimator {font-family: monospace;background-color: #f0f8ff;border: 1px dotted black;border-radius: 0.25em;box-sizing: border-box;margin-bottom: 0.5em;}#sk-container-id-1 div.sk-estimator:hover {background-color: #d4ebff;}#sk-container-id-1 div.sk-parallel-item::after {content: \"\";width: 100%;border-bottom: 1px solid gray;flex-grow: 1;}#sk-container-id-1 div.sk-label:hover label.sk-toggleable__label {background-color: #d4ebff;}#sk-container-id-1 div.sk-serial::before {content: \"\";position: absolute;border-left: 1px solid gray;box-sizing: border-box;top: 0;bottom: 0;left: 50%;z-index: 0;}#sk-container-id-1 div.sk-serial {display: flex;flex-direction: column;align-items: center;background-color: white;padding-right: 0.2em;padding-left: 0.2em;position: relative;}#sk-container-id-1 div.sk-item {position: relative;z-index: 1;}#sk-container-id-1 div.sk-parallel {display: flex;align-items: stretch;justify-content: center;background-color: white;position: relative;}#sk-container-id-1 div.sk-item::before, #sk-container-id-1 div.sk-parallel-item::before {content: \"\";position: absolute;border-left: 1px solid gray;box-sizing: border-box;top: 0;bottom: 0;left: 50%;z-index: -1;}#sk-container-id-1 div.sk-parallel-item {display: flex;flex-direction: column;z-index: 1;position: relative;background-color: white;}#sk-container-id-1 div.sk-parallel-item:first-child::after {align-self: flex-end;width: 50%;}#sk-container-id-1 div.sk-parallel-item:last-child::after {align-self: flex-start;width: 50%;}#sk-container-id-1 div.sk-parallel-item:only-child::after {width: 0;}#sk-container-id-1 div.sk-dashed-wrapped {border: 1px dashed gray;margin: 0 0.4em 0.5em 0.4em;box-sizing: border-box;padding-bottom: 0.4em;background-color: white;}#sk-container-id-1 div.sk-label label {font-family: monospace;font-weight: bold;display: inline-block;line-height: 1.2em;}#sk-container-id-1 div.sk-label-container {text-align: center;}#sk-container-id-1 div.sk-container {/* jupyter's `normalize.less` sets `[hidden] { display: none; }` but bootstrap.min.css set `[hidden] { display: none !important; }` so we also need the `!important` here to be able to override the default hidden behavior on the sphinx rendered scikit-learn.org. See: https://github.com/scikit-learn/scikit-learn/issues/21755 */display: inline-block !important;position: relative;}#sk-container-id-1 div.sk-text-repr-fallback {display: none;}</style><div id=\"sk-container-id-1\" class=\"sk-top-container\"><div class=\"sk-text-repr-fallback\"><pre>LinearRegression()</pre><b>In a Jupyter environment, please rerun this cell to show the HTML representation or trust the notebook. <br />On GitHub, the HTML representation is unable to render, please try loading this page with nbviewer.org.</b></div><div class=\"sk-container\" hidden><div class=\"sk-item\"><div class=\"sk-estimator sk-toggleable\"><input class=\"sk-toggleable__control sk-hidden--visually\" id=\"sk-estimator-id-1\" type=\"checkbox\" checked><label for=\"sk-estimator-id-1\" class=\"sk-toggleable__label sk-toggleable__label-arrow\">LinearRegression</label><div class=\"sk-toggleable__content\"><pre>LinearRegression()</pre></div></div></div></div></div>"
      ],
      "text/plain": [
       "LinearRegression()"
      ]
     },
     "execution_count": 59,
     "metadata": {},
     "output_type": "execute_result"
    }
   ],
   "source": [
    "#to train the model\n",
    "l_model.fit(x_train,y_train)"
   ]
  },
  {
   "cell_type": "code",
   "execution_count": 60,
   "id": "468e4f5d-ffcd-4b76-8ffb-b9cb1085ca7e",
   "metadata": {},
   "outputs": [
    {
     "data": {
      "text/plain": [
       "array([12714.05291195,  6617.79465929,  5333.52678118, 15595.14207213,\n",
       "        4767.28538247,  9079.74902113,  1559.08540644,  5290.98553852,\n",
       "        6286.01349693, 13632.45650978, 10746.7641256 ,  6349.29255322,\n",
       "        8282.36830003, 17495.16008697, 10395.50406079, 12985.80057969,\n",
       "       13977.9580911 ,  6000.46768654,  4070.78966147,  9568.6427117 ,\n",
       "       11520.65753108, 10389.99013846,  9793.42624902,  4276.26588942,\n",
       "        4136.2499325 ,  3294.56094233, 10033.28010997,  7564.51062346,\n",
       "       10521.30038095,  1659.44198798, 19654.52821976,  2777.27695798,\n",
       "        4492.70838755,  5388.14456649,  6772.00393788, 11275.02689564,\n",
       "        9047.34418189,  6317.66399485,  8328.9281831 ,  4819.84285492,\n",
       "       10780.00031734,  5765.52094641,  4185.76769945,  5839.91405344,\n",
       "        8251.3021314 ,  5045.87177078,  5089.91665511, 10670.12486167,\n",
       "       12915.16783794, 18658.6861881 ,  9149.32093596,  4606.19557457,\n",
       "        7646.04133626,  1988.80306209,  8292.62051395,  5270.1862607 ,\n",
       "        5932.72005   , 11583.9746524 ,  2460.32199168,  3799.78907312,\n",
       "        8092.33150129,  8026.40778239, 10052.88149886,  8060.40084244,\n",
       "       11811.65066264, 10849.92638005,  2701.69884949,  8937.82274101,\n",
       "       10945.0447657 ,  6205.57451103,  3514.81069165,  3161.79012852,\n",
       "        7933.57072351,  4930.91426192, 12646.76973078,  4323.31133115,\n",
       "        3637.28938151,  8064.45686984,  3072.44124182,  6466.05006377,\n",
       "        3522.20199946,  2898.78072203,  7732.83028118,  7336.13254942,\n",
       "       12639.6967328 ,  9630.6665141 ,  3474.58409372,  2210.38166233,\n",
       "        4480.43742838,  4621.30946106,  7381.35095927,  3606.33158169,\n",
       "        6208.80828292,  3247.6808777 , 10430.04917927, 10069.14718295,\n",
       "        2494.00450003,  9038.78378658,  7108.62245372, 10246.63217819,\n",
       "       13175.30348253,  7996.2778024 ,  3774.46072639,  4661.09758783,\n",
       "        5099.28788999, 12180.12961343,  8130.07982578,  5379.97570255,\n",
       "        5596.43116111,  8470.37938684,  3445.76784746,  6134.09771945,\n",
       "       11874.76448749,  6196.21304009,  1028.62354618, 10271.5060905 ,\n",
       "        7504.3247041 ,  2135.78355933,  9467.34240644,  2965.67531979,\n",
       "        3322.83028453,  7635.54709976,  3456.40457068,  5413.80152192,\n",
       "        3700.6673658 ,  2488.19038041,  7667.10655904, 10723.68904761,\n",
       "        7213.71800388,  3891.18560081,  4661.01927137, 12877.43822745,\n",
       "       15949.44151841,  6786.9495841 , 10392.58149808,  5360.2408056 ,\n",
       "        7180.05586101, 18281.07632879,  7590.69963246,  2861.53749091,\n",
       "       12245.87736867,  4549.62898326,  7927.05657871,  4893.73096199,\n",
       "        9764.23817497,  5585.46947305,  4593.96143788,  6821.34785693,\n",
       "        1902.22371647,  2146.2328122 ,  4157.85575564, 17049.25973052,\n",
       "        7029.95254991,  8092.63265565, 12778.21154313,  2120.137552  ,\n",
       "        5268.6404988 , 11867.46032372,  9212.83083584,  9190.08541732,\n",
       "        3623.63838597,  2023.60575102, 10979.96760638,  7420.36318344,\n",
       "        5432.03735917,  5902.01714758,  3774.19588496,  8242.21547893,\n",
       "        6436.64057886,  2780.15008478,  5597.14776817,  9032.28810531,\n",
       "        7481.23737524, 10663.89533448,  6336.81250026,  2480.64320404,\n",
       "        5119.25983268, 11154.06252631,  9201.43526023,  6707.8585325 ,\n",
       "       13885.6402639 ,  3077.53927249,  7486.9830855 ,  4138.92117138,\n",
       "        7284.28060552,  8471.51084714, 13070.09970409,  2040.50164782,\n",
       "        4449.36017175,  5181.00128047,  2737.6810343 ,  8248.26315739,\n",
       "       10184.63110125,  8279.46727518,  5016.10462956,  4493.82354904,\n",
       "        1891.18482711,  5604.34228225,  3002.51133643,  5551.37070045,\n",
       "        5190.8570686 , 15376.24883432,  2907.97638219, 11022.44568056,\n",
       "        2158.08308057,  4828.38466479])"
      ]
     },
     "execution_count": 60,
     "metadata": {},
     "output_type": "execute_result"
    }
   ],
   "source": [
    "prediction=l_model.predict(x_test)\n",
    "prediction"
   ]
  },
  {
   "cell_type": "code",
   "execution_count": 61,
   "id": "af770113-b7cf-49b4-aef0-f0378a201d50",
   "metadata": {},
   "outputs": [],
   "source": [
    "from sklearn.metrics import * # to import all methods available"
   ]
  },
  {
   "cell_type": "code",
   "execution_count": 63,
   "id": "77b4b660-ccb5-4cb6-8afa-05573d61dd79",
   "metadata": {},
   "outputs": [
    {
     "data": {
      "text/plain": [
       "0.7419084827253821"
      ]
     },
     "execution_count": 63,
     "metadata": {},
     "output_type": "execute_result"
    }
   ],
   "source": [
    "r2score=r2_score(y_test,prediction)\n",
    "r2score"
   ]
  },
  {
   "cell_type": "code",
   "execution_count": 65,
   "id": "1c1388b6-7170-441d-bfe3-71785ed9280b",
   "metadata": {},
   "outputs": [
    {
     "data": {
      "text/html": [
       "<div>\n",
       "<style scoped>\n",
       "    .dataframe tbody tr th:only-of-type {\n",
       "        vertical-align: middle;\n",
       "    }\n",
       "\n",
       "    .dataframe tbody tr th {\n",
       "        vertical-align: top;\n",
       "    }\n",
       "\n",
       "    .dataframe thead th {\n",
       "        text-align: right;\n",
       "    }\n",
       "</style>\n",
       "<table border=\"1\" class=\"dataframe\">\n",
       "  <thead>\n",
       "    <tr style=\"text-align: right;\">\n",
       "      <th></th>\n",
       "      <th>children</th>\n",
       "      <th>Claim_Amount</th>\n",
       "      <th>past_consultations</th>\n",
       "      <th>Hospital_expenditure</th>\n",
       "      <th>Anual_Salary</th>\n",
       "    </tr>\n",
       "  </thead>\n",
       "  <tbody>\n",
       "    <tr>\n",
       "      <th>0</th>\n",
       "      <td>0.0</td>\n",
       "      <td>29087.54313</td>\n",
       "      <td>17.0</td>\n",
       "      <td>4720920.992</td>\n",
       "      <td>55784970.05</td>\n",
       "    </tr>\n",
       "    <tr>\n",
       "      <th>1</th>\n",
       "      <td>0.0</td>\n",
       "      <td>39053.67437</td>\n",
       "      <td>7.0</td>\n",
       "      <td>4329831.676</td>\n",
       "      <td>13700885.19</td>\n",
       "    </tr>\n",
       "    <tr>\n",
       "      <th>2</th>\n",
       "      <td>0.0</td>\n",
       "      <td>39023.62759</td>\n",
       "      <td>19.0</td>\n",
       "      <td>6884860.774</td>\n",
       "      <td>73523107.27</td>\n",
       "    </tr>\n",
       "  </tbody>\n",
       "</table>\n",
       "</div>"
      ],
      "text/plain": [
       "   children  Claim_Amount  past_consultations  Hospital_expenditure  \\\n",
       "0       0.0   29087.54313                17.0           4720920.992   \n",
       "1       0.0   39053.67437                 7.0           4329831.676   \n",
       "2       0.0   39023.62759                19.0           6884860.774   \n",
       "\n",
       "   Anual_Salary  \n",
       "0   55784970.05  \n",
       "1   13700885.19  \n",
       "2   73523107.27  "
      ]
     },
     "execution_count": 65,
     "metadata": {},
     "output_type": "execute_result"
    }
   ],
   "source": [
    "X.head(3)"
   ]
  },
  {
   "cell_type": "code",
   "execution_count": 66,
   "id": "687a7b25-4af3-4606-b8da-3673f5004ec2",
   "metadata": {},
   "outputs": [
    {
     "name": "stderr",
     "output_type": "stream",
     "text": [
      "C:\\Python\\Python312\\Lib\\site-packages\\sklearn\\base.py:465: UserWarning: X does not have valid feature names, but LinearRegression was fitted with feature names\n",
      "  warnings.warn(\n"
     ]
    },
    {
     "data": {
      "text/plain": [
       "array([2304.75607199])"
      ]
     },
     "execution_count": 66,
     "metadata": {},
     "output_type": "execute_result"
    }
   ],
   "source": [
    "l_model.predict([[2,37000,20,4500000,120000]])"
   ]
  },
  {
   "cell_type": "code",
   "execution_count": null,
   "id": "38c579d1-9d0e-4ad5-9aac-c7671758bcc9",
   "metadata": {},
   "outputs": [],
   "source": []
  }
 ],
 "metadata": {
  "kernelspec": {
   "display_name": "Python 3 (ipykernel)",
   "language": "python",
   "name": "python3"
  },
  "language_info": {
   "codemirror_mode": {
    "name": "ipython",
    "version": 3
   },
   "file_extension": ".py",
   "mimetype": "text/x-python",
   "name": "python",
   "nbconvert_exporter": "python",
   "pygments_lexer": "ipython3",
   "version": "3.12.1"
  }
 },
 "nbformat": 4,
 "nbformat_minor": 5
}
