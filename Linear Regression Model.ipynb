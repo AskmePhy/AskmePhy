{
 "cells": [
  {
   "cell_type": "markdown",
   "id": "4cb93c01-3ccb-41ef-a295-3ae72b08e18a",
   "metadata": {},
   "source": [
    "# Assignment No 7"
   ]
  },
  {
   "cell_type": "markdown",
   "id": "4b459efb-4e50-4d3c-9bb1-27232c1bc3e2",
   "metadata": {},
   "source": [
    "You work in XYZ Company as a Python. The company officials want you to build a data science model.\n",
    "1. Using sklearn import the wine dataset\r\n",
    "2. Split the data into train and test set\r\n",
    "3. Train the model\r\n",
    "4. Make Predictions\r\n",
    "5. Check the performance of the model using r2_score"
   ]
  },
  {
   "cell_type": "code",
   "execution_count": 1,
   "id": "943ddb30-6127-4730-90ff-1b541cfab9b2",
   "metadata": {},
   "outputs": [],
   "source": [
    "import numpy as pandas\n",
    "import pandas as pd\n",
    "import matplotlib.pyplot as plt\n",
    "import seaborn as sns"
   ]
  },
  {
   "cell_type": "code",
   "execution_count": 2,
   "id": "fcbbf6d7-c113-4598-be11-8b56e09ecee6",
   "metadata": {},
   "outputs": [],
   "source": [
    "df=pd.read_csv(\"wine.csv\")"
   ]
  },
  {
   "cell_type": "code",
   "execution_count": 3,
   "id": "2b8c0f93-734e-4634-a883-c7a8e7f143bf",
   "metadata": {},
   "outputs": [
    {
     "data": {
      "text/html": [
       "<div>\n",
       "<style scoped>\n",
       "    .dataframe tbody tr th:only-of-type {\n",
       "        vertical-align: middle;\n",
       "    }\n",
       "\n",
       "    .dataframe tbody tr th {\n",
       "        vertical-align: top;\n",
       "    }\n",
       "\n",
       "    .dataframe thead th {\n",
       "        text-align: right;\n",
       "    }\n",
       "</style>\n",
       "<table border=\"1\" class=\"dataframe\">\n",
       "  <thead>\n",
       "    <tr style=\"text-align: right;\">\n",
       "      <th></th>\n",
       "      <th>Wine</th>\n",
       "      <th>Alcohol</th>\n",
       "      <th>Malic.acid</th>\n",
       "      <th>Ash</th>\n",
       "      <th>Acl</th>\n",
       "      <th>Mg</th>\n",
       "      <th>Phenols</th>\n",
       "      <th>Flavanoids</th>\n",
       "      <th>Nonflavanoid.phenols</th>\n",
       "      <th>Proanth</th>\n",
       "      <th>Color.int</th>\n",
       "      <th>Hue</th>\n",
       "      <th>OD</th>\n",
       "      <th>Proline</th>\n",
       "    </tr>\n",
       "  </thead>\n",
       "  <tbody>\n",
       "    <tr>\n",
       "      <th>0</th>\n",
       "      <td>1</td>\n",
       "      <td>14.23</td>\n",
       "      <td>1.71</td>\n",
       "      <td>2.43</td>\n",
       "      <td>15.6</td>\n",
       "      <td>127</td>\n",
       "      <td>2.80</td>\n",
       "      <td>3.06</td>\n",
       "      <td>0.28</td>\n",
       "      <td>2.29</td>\n",
       "      <td>5.64</td>\n",
       "      <td>1.04</td>\n",
       "      <td>3.92</td>\n",
       "      <td>1065</td>\n",
       "    </tr>\n",
       "    <tr>\n",
       "      <th>1</th>\n",
       "      <td>1</td>\n",
       "      <td>13.20</td>\n",
       "      <td>1.78</td>\n",
       "      <td>2.14</td>\n",
       "      <td>11.2</td>\n",
       "      <td>100</td>\n",
       "      <td>2.65</td>\n",
       "      <td>2.76</td>\n",
       "      <td>0.26</td>\n",
       "      <td>1.28</td>\n",
       "      <td>4.38</td>\n",
       "      <td>1.05</td>\n",
       "      <td>3.40</td>\n",
       "      <td>1050</td>\n",
       "    </tr>\n",
       "    <tr>\n",
       "      <th>2</th>\n",
       "      <td>1</td>\n",
       "      <td>13.16</td>\n",
       "      <td>2.36</td>\n",
       "      <td>2.67</td>\n",
       "      <td>18.6</td>\n",
       "      <td>101</td>\n",
       "      <td>2.80</td>\n",
       "      <td>3.24</td>\n",
       "      <td>0.30</td>\n",
       "      <td>2.81</td>\n",
       "      <td>5.68</td>\n",
       "      <td>1.03</td>\n",
       "      <td>3.17</td>\n",
       "      <td>1185</td>\n",
       "    </tr>\n",
       "    <tr>\n",
       "      <th>3</th>\n",
       "      <td>1</td>\n",
       "      <td>14.37</td>\n",
       "      <td>1.95</td>\n",
       "      <td>2.50</td>\n",
       "      <td>16.8</td>\n",
       "      <td>113</td>\n",
       "      <td>3.85</td>\n",
       "      <td>3.49</td>\n",
       "      <td>0.24</td>\n",
       "      <td>2.18</td>\n",
       "      <td>7.80</td>\n",
       "      <td>0.86</td>\n",
       "      <td>3.45</td>\n",
       "      <td>1480</td>\n",
       "    </tr>\n",
       "  </tbody>\n",
       "</table>\n",
       "</div>"
      ],
      "text/plain": [
       "   Wine  Alcohol  Malic.acid   Ash   Acl   Mg  Phenols  Flavanoids  \\\n",
       "0     1    14.23        1.71  2.43  15.6  127     2.80        3.06   \n",
       "1     1    13.20        1.78  2.14  11.2  100     2.65        2.76   \n",
       "2     1    13.16        2.36  2.67  18.6  101     2.80        3.24   \n",
       "3     1    14.37        1.95  2.50  16.8  113     3.85        3.49   \n",
       "\n",
       "   Nonflavanoid.phenols  Proanth  Color.int   Hue    OD  Proline  \n",
       "0                  0.28     2.29       5.64  1.04  3.92     1065  \n",
       "1                  0.26     1.28       4.38  1.05  3.40     1050  \n",
       "2                  0.30     2.81       5.68  1.03  3.17     1185  \n",
       "3                  0.24     2.18       7.80  0.86  3.45     1480  "
      ]
     },
     "execution_count": 3,
     "metadata": {},
     "output_type": "execute_result"
    }
   ],
   "source": [
    "df.head(4)"
   ]
  },
  {
   "cell_type": "code",
   "execution_count": 4,
   "id": "48bdf4ac-f72b-44ff-9148-9ff494795c8d",
   "metadata": {},
   "outputs": [
    {
     "data": {
      "text/plain": [
       "(178, 14)"
      ]
     },
     "execution_count": 4,
     "metadata": {},
     "output_type": "execute_result"
    }
   ],
   "source": [
    "df.shape"
   ]
  },
  {
   "cell_type": "code",
   "execution_count": 5,
   "id": "61cc2b20-212b-4818-bf6b-38c776a93abd",
   "metadata": {},
   "outputs": [
    {
     "data": {
      "text/plain": [
       "Wine                    0\n",
       "Alcohol                 0\n",
       "Malic.acid              0\n",
       "Ash                     0\n",
       "Acl                     0\n",
       "Mg                      0\n",
       "Phenols                 0\n",
       "Flavanoids              0\n",
       "Nonflavanoid.phenols    0\n",
       "Proanth                 0\n",
       "Color.int               0\n",
       "Hue                     0\n",
       "OD                      0\n",
       "Proline                 0\n",
       "dtype: int64"
      ]
     },
     "execution_count": 5,
     "metadata": {},
     "output_type": "execute_result"
    }
   ],
   "source": [
    "df.isnull().sum()"
   ]
  },
  {
   "cell_type": "code",
   "execution_count": 6,
   "id": "f331de2b-9ccd-4272-8fd2-0b9a81dd21cc",
   "metadata": {},
   "outputs": [
    {
     "name": "stdout",
     "output_type": "stream",
     "text": [
      "<class 'pandas.core.frame.DataFrame'>\n",
      "RangeIndex: 178 entries, 0 to 177\n",
      "Data columns (total 14 columns):\n",
      " #   Column                Non-Null Count  Dtype  \n",
      "---  ------                --------------  -----  \n",
      " 0   Wine                  178 non-null    int64  \n",
      " 1   Alcohol               178 non-null    float64\n",
      " 2   Malic.acid            178 non-null    float64\n",
      " 3   Ash                   178 non-null    float64\n",
      " 4   Acl                   178 non-null    float64\n",
      " 5   Mg                    178 non-null    int64  \n",
      " 6   Phenols               178 non-null    float64\n",
      " 7   Flavanoids            178 non-null    float64\n",
      " 8   Nonflavanoid.phenols  178 non-null    float64\n",
      " 9   Proanth               178 non-null    float64\n",
      " 10  Color.int             178 non-null    float64\n",
      " 11  Hue                   178 non-null    float64\n",
      " 12  OD                    178 non-null    float64\n",
      " 13  Proline               178 non-null    int64  \n",
      "dtypes: float64(11), int64(3)\n",
      "memory usage: 19.6 KB\n"
     ]
    }
   ],
   "source": [
    "df.info()"
   ]
  },
  {
   "cell_type": "code",
   "execution_count": 7,
   "id": "8ec2bf21-312a-42d0-8246-d06bb32e6731",
   "metadata": {},
   "outputs": [],
   "source": [
    "#Checking and removing outliers\n",
    "col_list=df.columns"
   ]
  },
  {
   "cell_type": "code",
   "execution_count": 9,
   "id": "379cc544-b0d1-44fc-ae96-e79d5b673936",
   "metadata": {},
   "outputs": [
    {
     "data": {
      "image/png": "[encoded data removed]",
      "text/plain": [
       "<Figure size 640x480 with 1 Axes>"
      ]
     },
     "metadata": {},
     "output_type": "display_data"
    },
    {
     "data": {
      "image/png": "[encoded data removed]",
      "text/plain": [
       "<Figure size 640x480 with 1 Axes>"
      ]
     },
     "metadata": {},
     "output_type": "display_data"
    },
    {
     "data": {
      "image/png": "[encoded data removed]",
      "text/plain": [
       "<Figure size 640x480 with 1 Axes>"
      ]
     },
     "metadata": {},
     "output_type": "display_data"
    },
    {
     "data": {
      "image/png": "[encoded data removed]",
      "text/plain": [
       "<Figure size 640x480 with 1 Axes>"
      ]
     },
     "metadata": {},
     "output_type": "display_data"
    },
    {
     "data": {
      "image/png": "[encoded data removed]",
      "text/plain": [
       "<Figure size 640x480 with 1 Axes>"
      ]
     },
     "metadata": {},
     "output_type": "display_data"
    },
    {
     "data": {
      "image/png": "[encoded data removed]",
      "text/plain": [
       "<Figure size 640x480 with 1 Axes>"
      ]
     },
     "metadata": {},
     "output_type": "display_data"
    },
    {
     "data": {
      "image/png": "[encoded data removed]",
      "text/plain": [
       "<Figure size 640x480 with 1 Axes>"
      ]
     },
     "metadata": {},
     "output_type": "display_data"
    },
    {
     "data": {
      "image/png": "[encoded data removed]",
      "text/plain": [
       "<Figure size 640x480 with 1 Axes>"
      ]
     },
     "metadata": {},
     "output_type": "display_data"
    },
    {
     "data": {
      "image/png": "[encoded data removed]",
      "text/plain": [
       "<Figure size 640x480 with 1 Axes>"
      ]
     },
     "metadata": {},
     "output_type": "display_data"
    },
    {
     "data": {
      "image/png": "[encoded data removed]",
      "text/plain": [
       "<Figure size 640x480 with 1 Axes>"
      ]
     },
     "metadata": {},
     "output_type": "display_data"
    },
    {
     "data": {
      "image/png": "[encoded data removed]",
      "text/plain": [
       "<Figure size 640x480 with 1 Axes>"
      ]
     },
     "metadata": {},
     "output_type": "display_data"
    },
    {
     "data": {
      "image/png": "[encoded data removed]",
      "text/plain": [
       "<Figure size 640x480 with 1 Axes>"
      ]
     },
     "metadata": {},
     "output_type": "display_data"
    },
    {
     "data": {
      "image/png": "[encoded data removed]",
      "text/plain": [
       "<Figure size 640x480 with 1 Axes>"
      ]
     },
     "metadata": {},
     "output_type": "display_data"
    },
    {
     "data": {
      "image/png": "[encoded data removed]",
      "text/plain": [
       "<Figure size 640x480 with 1 Axes>"
      ]
     },
     "metadata": {},
     "output_type": "display_data"
    }
   ],
   "source": [
    "for i in col_list:\n",
    "    if((df[i].dtypes==\"int64\") or (df[i].dtypes==\"float64\")):\n",
    "        plt.boxplot(df[i])\n",
    "        plt.xlabel(i)\n",
    "        plt.ylabel(\"counts\")\n",
    "        plt.show()"
   ]
  },
  {
   "cell_type": "code",
   "execution_count": 10,
   "id": "480e3bfd-f541-4d25-927f-3aba4f559138",
   "metadata": {},
   "outputs": [
    {
     "data": {
      "text/plain": [
       "Index(['Wine', 'Alcohol', 'Malic.acid', 'Ash', 'Acl', 'Mg', 'Phenols',\n",
       "       'Flavanoids', 'Nonflavanoid.phenols', 'Proanth', 'Color.int', 'Hue',\n",
       "       'OD', 'Proline'],\n",
       "      dtype='object')"
      ]
     },
     "execution_count": 10,
     "metadata": {},
     "output_type": "execute_result"
    }
   ],
   "source": [
    "col_list"
   ]
  },
  {
   "cell_type": "code",
   "execution_count": 11,
   "id": "a12aa083-1578-443b-99b3-085d69f5e211",
   "metadata": {},
   "outputs": [],
   "source": [
    "outlist=[ 'Malic.acid', 'Ash', 'Acl', 'Mg',\n",
    "        'Proanth', 'Color.int', 'Hue']"
   ]
  },
  {
   "cell_type": "code",
   "execution_count": 12,
   "id": "61de9516-4eee-49b9-9162-c1dfdb567c5e",
   "metadata": {},
   "outputs": [],
   "source": [
    "for i in outlist:\n",
    "    Q1=df[i].quantile(0.25)\n",
    "    Q3=df[i].quantile(0.75)\n",
    "    IQR=Q3-Q1\n",
    "    df=df[(df[i]>=Q1-1.5*IQR) & (df[i]<=Q3+1.5*IQR)]"
   ]
  },
  {
   "cell_type": "code",
   "execution_count": 14,
   "id": "a69c63fd-4939-40b4-add9-1352d2ff362b",
   "metadata": {},
   "outputs": [
    {
     "data": {
      "text/plain": [
       "0"
      ]
     },
     "execution_count": 14,
     "metadata": {},
     "output_type": "execute_result"
    }
   ],
   "source": [
    "df.duplicated().sum()"
   ]
  },
  {
   "cell_type": "code",
   "execution_count": 15,
   "id": "574f4339-db71-403f-a7d9-cb86684545ae",
   "metadata": {},
   "outputs": [],
   "source": [
    "# Performing VIF"
   ]
  },
  {
   "cell_type": "code",
   "execution_count": 16,
   "id": "8b3d2f18-2f69-4a1a-8f36-fbb1f805ae39",
   "metadata": {},
   "outputs": [],
   "source": [
    "from statsmodels.stats.outliers_influence import variance_inflation_factor"
   ]
  },
  {
   "cell_type": "code",
   "execution_count": 17,
   "id": "13f349eb-6245-4447-a6fc-cf38a34d01c8",
   "metadata": {},
   "outputs": [],
   "source": [
    "cols_list=[]"
   ]
  },
  {
   "cell_type": "code",
   "execution_count": 19,
   "id": "bbbf3719-5f11-4941-a2d1-011cf2010c0e",
   "metadata": {},
   "outputs": [],
   "source": [
    "for i in col_list:\n",
    "    if ((df[i].dtypes!=\"object\") & (i!=\"Proline\")):\n",
    "        cols_list.append(i)"
   ]
  },
  {
   "cell_type": "code",
   "execution_count": 20,
   "id": "3558e23b-b0bf-4c19-ab48-46874bbf1b79",
   "metadata": {},
   "outputs": [],
   "source": [
    "x=df[cols_list]"
   ]
  },
  {
   "cell_type": "code",
   "execution_count": 21,
   "id": "ad7f4334-0059-4aa4-ae9e-556b1ca0de99",
   "metadata": {},
   "outputs": [
    {
     "data": {
      "text/html": [
       "<div>\n",
       "<style scoped>\n",
       "    .dataframe tbody tr th:only-of-type {\n",
       "        vertical-align: middle;\n",
       "    }\n",
       "\n",
       "    .dataframe tbody tr th {\n",
       "        vertical-align: top;\n",
       "    }\n",
       "\n",
       "    .dataframe thead th {\n",
       "        text-align: right;\n",
       "    }\n",
       "</style>\n",
       "<table border=\"1\" class=\"dataframe\">\n",
       "  <thead>\n",
       "    <tr style=\"text-align: right;\">\n",
       "      <th></th>\n",
       "      <th>features</th>\n",
       "      <th>VIF</th>\n",
       "    </tr>\n",
       "  </thead>\n",
       "  <tbody>\n",
       "    <tr>\n",
       "      <th>0</th>\n",
       "      <td>Wine</td>\n",
       "      <td>34.515700</td>\n",
       "    </tr>\n",
       "    <tr>\n",
       "      <th>1</th>\n",
       "      <td>Alcohol</td>\n",
       "      <td>289.171582</td>\n",
       "    </tr>\n",
       "    <tr>\n",
       "      <th>2</th>\n",
       "      <td>Malic.acid</td>\n",
       "      <td>10.234246</td>\n",
       "    </tr>\n",
       "    <tr>\n",
       "      <th>3</th>\n",
       "      <td>Ash</td>\n",
       "      <td>179.587023</td>\n",
       "    </tr>\n",
       "    <tr>\n",
       "      <th>4</th>\n",
       "      <td>Acl</td>\n",
       "      <td>97.227063</td>\n",
       "    </tr>\n",
       "    <tr>\n",
       "      <th>5</th>\n",
       "      <td>Mg</td>\n",
       "      <td>104.115311</td>\n",
       "    </tr>\n",
       "    <tr>\n",
       "      <th>6</th>\n",
       "      <td>Phenols</td>\n",
       "      <td>73.847723</td>\n",
       "    </tr>\n",
       "    <tr>\n",
       "      <th>7</th>\n",
       "      <td>Flavanoids</td>\n",
       "      <td>67.721360</td>\n",
       "    </tr>\n",
       "    <tr>\n",
       "      <th>8</th>\n",
       "      <td>Nonflavanoid.phenols</td>\n",
       "      <td>16.817084</td>\n",
       "    </tr>\n",
       "    <tr>\n",
       "      <th>9</th>\n",
       "      <td>Proanth</td>\n",
       "      <td>24.277992</td>\n",
       "    </tr>\n",
       "    <tr>\n",
       "      <th>10</th>\n",
       "      <td>Color.int</td>\n",
       "      <td>17.126135</td>\n",
       "    </tr>\n",
       "    <tr>\n",
       "      <th>11</th>\n",
       "      <td>Hue</td>\n",
       "      <td>48.917431</td>\n",
       "    </tr>\n",
       "    <tr>\n",
       "      <th>12</th>\n",
       "      <td>OD</td>\n",
       "      <td>55.658124</td>\n",
       "    </tr>\n",
       "  </tbody>\n",
       "</table>\n",
       "</div>"
      ],
      "text/plain": [
       "                features         VIF\n",
       "0                   Wine   34.515700\n",
       "1                Alcohol  289.171582\n",
       "2             Malic.acid   10.234246\n",
       "3                    Ash  179.587023\n",
       "4                    Acl   97.227063\n",
       "5                     Mg  104.115311\n",
       "6                Phenols   73.847723\n",
       "7             Flavanoids   67.721360\n",
       "8   Nonflavanoid.phenols   16.817084\n",
       "9                Proanth   24.277992\n",
       "10             Color.int   17.126135\n",
       "11                   Hue   48.917431\n",
       "12                    OD   55.658124"
      ]
     },
     "execution_count": 21,
     "metadata": {},
     "output_type": "execute_result"
    }
   ],
   "source": [
    "vif_data=pd.DataFrame()\n",
    "vif_data[\"features\"]=x.columns\n",
    "vif_data[\"VIF\"]=[variance_inflation_factor(x.values,i) for i in range(len(x.columns))]\n",
    "vif_data"
   ]
  },
  {
   "cell_type": "code",
   "execution_count": 22,
   "id": "cd22d57f-f5fb-4b11-944d-8fb13b9cf357",
   "metadata": {},
   "outputs": [],
   "source": [
    "df=df.drop([\"Mg\"], axis=1)"
   ]
  },
  {
   "cell_type": "code",
   "execution_count": 24,
   "id": "fe0fda50-d317-4386-95fd-21a835aae887",
   "metadata": {},
   "outputs": [
    {
     "data": {
      "text/html": [
       "<div>\n",
       "<style scoped>\n",
       "    .dataframe tbody tr th:only-of-type {\n",
       "        vertical-align: middle;\n",
       "    }\n",
       "\n",
       "    .dataframe tbody tr th {\n",
       "        vertical-align: top;\n",
       "    }\n",
       "\n",
       "    .dataframe thead th {\n",
       "        text-align: right;\n",
       "    }\n",
       "</style>\n",
       "<table border=\"1\" class=\"dataframe\">\n",
       "  <thead>\n",
       "    <tr style=\"text-align: right;\">\n",
       "      <th></th>\n",
       "      <th>features</th>\n",
       "      <th>VIF</th>\n",
       "    </tr>\n",
       "  </thead>\n",
       "  <tbody>\n",
       "    <tr>\n",
       "      <th>0</th>\n",
       "      <td>Wine</td>\n",
       "      <td>34.507189</td>\n",
       "    </tr>\n",
       "    <tr>\n",
       "      <th>1</th>\n",
       "      <td>Alcohol</td>\n",
       "      <td>245.631651</td>\n",
       "    </tr>\n",
       "    <tr>\n",
       "      <th>2</th>\n",
       "      <td>Malic.acid</td>\n",
       "      <td>10.228792</td>\n",
       "    </tr>\n",
       "    <tr>\n",
       "      <th>3</th>\n",
       "      <td>Ash</td>\n",
       "      <td>147.632329</td>\n",
       "    </tr>\n",
       "    <tr>\n",
       "      <th>4</th>\n",
       "      <td>Acl</td>\n",
       "      <td>96.162177</td>\n",
       "    </tr>\n",
       "    <tr>\n",
       "      <th>5</th>\n",
       "      <td>Phenols</td>\n",
       "      <td>73.398894</td>\n",
       "    </tr>\n",
       "    <tr>\n",
       "      <th>6</th>\n",
       "      <td>Flavanoids</td>\n",
       "      <td>67.545935</td>\n",
       "    </tr>\n",
       "    <tr>\n",
       "      <th>7</th>\n",
       "      <td>Nonflavanoid.phenols</td>\n",
       "      <td>15.925802</td>\n",
       "    </tr>\n",
       "    <tr>\n",
       "      <th>8</th>\n",
       "      <td>Proanth</td>\n",
       "      <td>24.241299</td>\n",
       "    </tr>\n",
       "    <tr>\n",
       "      <th>9</th>\n",
       "      <td>Color.int</td>\n",
       "      <td>17.055296</td>\n",
       "    </tr>\n",
       "    <tr>\n",
       "      <th>10</th>\n",
       "      <td>Hue</td>\n",
       "      <td>48.872119</td>\n",
       "    </tr>\n",
       "    <tr>\n",
       "      <th>11</th>\n",
       "      <td>OD</td>\n",
       "      <td>55.313465</td>\n",
       "    </tr>\n",
       "  </tbody>\n",
       "</table>\n",
       "</div>"
      ],
      "text/plain": [
       "                features         VIF\n",
       "0                   Wine   34.507189\n",
       "1                Alcohol  245.631651\n",
       "2             Malic.acid   10.228792\n",
       "3                    Ash  147.632329\n",
       "4                    Acl   96.162177\n",
       "5                Phenols   73.398894\n",
       "6             Flavanoids   67.545935\n",
       "7   Nonflavanoid.phenols   15.925802\n",
       "8                Proanth   24.241299\n",
       "9              Color.int   17.055296\n",
       "10                   Hue   48.872119\n",
       "11                    OD   55.313465"
      ]
     },
     "execution_count": 24,
     "metadata": {},
     "output_type": "execute_result"
    }
   ],
   "source": [
    "cols_list=[]\n",
    "for i in df.columns:\n",
    "     if ((df[i].dtypes!=\"object\") & (i!=\"Proline\")):\n",
    "        cols_list.append(i)\n",
    "x=df[cols_list]\n",
    "vif_data=pd.DataFrame()\n",
    "vif_data[\"features\"]=x.columns\n",
    "vif_data[\"VIF\"]=[variance_inflation_factor(x.values,i) for i in range(len(x.columns))]\n",
    "vif_data"
   ]
  },
  {
   "cell_type": "code",
   "execution_count": 26,
   "id": "68ae5174-65c8-49b5-ba56-eab9050c71ce",
   "metadata": {},
   "outputs": [],
   "source": [
    "df=df.drop([\"Alcohol\"],axis=1)"
   ]
  },
  {
   "cell_type": "code",
   "execution_count": 27,
   "id": "0900c906-2581-4e85-8c4b-1c15df986dbe",
   "metadata": {},
   "outputs": [
    {
     "data": {
      "text/html": [
       "<div>\n",
       "<style scoped>\n",
       "    .dataframe tbody tr th:only-of-type {\n",
       "        vertical-align: middle;\n",
       "    }\n",
       "\n",
       "    .dataframe tbody tr th {\n",
       "        vertical-align: top;\n",
       "    }\n",
       "\n",
       "    .dataframe thead th {\n",
       "        text-align: right;\n",
       "    }\n",
       "</style>\n",
       "<table border=\"1\" class=\"dataframe\">\n",
       "  <thead>\n",
       "    <tr style=\"text-align: right;\">\n",
       "      <th></th>\n",
       "      <th>features</th>\n",
       "      <th>VIF</th>\n",
       "    </tr>\n",
       "  </thead>\n",
       "  <tbody>\n",
       "    <tr>\n",
       "      <th>0</th>\n",
       "      <td>Wine</td>\n",
       "      <td>30.757879</td>\n",
       "    </tr>\n",
       "    <tr>\n",
       "      <th>1</th>\n",
       "      <td>Malic.acid</td>\n",
       "      <td>9.656276</td>\n",
       "    </tr>\n",
       "    <tr>\n",
       "      <th>2</th>\n",
       "      <td>Ash</td>\n",
       "      <td>129.593173</td>\n",
       "    </tr>\n",
       "    <tr>\n",
       "      <th>3</th>\n",
       "      <td>Acl</td>\n",
       "      <td>96.084099</td>\n",
       "    </tr>\n",
       "    <tr>\n",
       "      <th>4</th>\n",
       "      <td>Phenols</td>\n",
       "      <td>73.397844</td>\n",
       "    </tr>\n",
       "    <tr>\n",
       "      <th>5</th>\n",
       "      <td>Flavanoids</td>\n",
       "      <td>66.329078</td>\n",
       "    </tr>\n",
       "    <tr>\n",
       "      <th>6</th>\n",
       "      <td>Nonflavanoid.phenols</td>\n",
       "      <td>15.559089</td>\n",
       "    </tr>\n",
       "    <tr>\n",
       "      <th>7</th>\n",
       "      <td>Proanth</td>\n",
       "      <td>24.150585</td>\n",
       "    </tr>\n",
       "    <tr>\n",
       "      <th>8</th>\n",
       "      <td>Color.int</td>\n",
       "      <td>11.266083</td>\n",
       "    </tr>\n",
       "    <tr>\n",
       "      <th>9</th>\n",
       "      <td>Hue</td>\n",
       "      <td>40.598416</td>\n",
       "    </tr>\n",
       "    <tr>\n",
       "      <th>10</th>\n",
       "      <td>OD</td>\n",
       "      <td>46.637022</td>\n",
       "    </tr>\n",
       "  </tbody>\n",
       "</table>\n",
       "</div>"
      ],
      "text/plain": [
       "                features         VIF\n",
       "0                   Wine   30.757879\n",
       "1             Malic.acid    9.656276\n",
       "2                    Ash  129.593173\n",
       "3                    Acl   96.084099\n",
       "4                Phenols   73.397844\n",
       "5             Flavanoids   66.329078\n",
       "6   Nonflavanoid.phenols   15.559089\n",
       "7                Proanth   24.150585\n",
       "8              Color.int   11.266083\n",
       "9                    Hue   40.598416\n",
       "10                    OD   46.637022"
      ]
     },
     "execution_count": 27,
     "metadata": {},
     "output_type": "execute_result"
    }
   ],
   "source": [
    "cols_list=[]\n",
    "for i in df.columns:\n",
    "     if ((df[i].dtypes!=\"object\") & (i!=\"Proline\")):\n",
    "        cols_list.append(i)\n",
    "x=df[cols_list]\n",
    "vif_data=pd.DataFrame()\n",
    "vif_data[\"features\"]=x.columns\n",
    "vif_data[\"VIF\"]=[variance_inflation_factor(x.values,i) for i in range(len(x.columns))]\n",
    "vif_data"
   ]
  },
  {
   "cell_type": "code",
   "execution_count": 28,
   "id": "780fed94-441c-4fa7-999e-81b6d67b2f3c",
   "metadata": {},
   "outputs": [],
   "source": [
    "df=df.drop([\"Ash\"],axis=1)"
   ]
  },
  {
   "cell_type": "code",
   "execution_count": 29,
   "id": "1fde8f15-f2ca-4af6-be89-3395ebe0b64f",
   "metadata": {},
   "outputs": [
    {
     "data": {
      "text/html": [
       "<div>\n",
       "<style scoped>\n",
       "    .dataframe tbody tr th:only-of-type {\n",
       "        vertical-align: middle;\n",
       "    }\n",
       "\n",
       "    .dataframe tbody tr th {\n",
       "        vertical-align: top;\n",
       "    }\n",
       "\n",
       "    .dataframe thead th {\n",
       "        text-align: right;\n",
       "    }\n",
       "</style>\n",
       "<table border=\"1\" class=\"dataframe\">\n",
       "  <thead>\n",
       "    <tr style=\"text-align: right;\">\n",
       "      <th></th>\n",
       "      <th>features</th>\n",
       "      <th>VIF</th>\n",
       "    </tr>\n",
       "  </thead>\n",
       "  <tbody>\n",
       "    <tr>\n",
       "      <th>0</th>\n",
       "      <td>Wine</td>\n",
       "      <td>30.449777</td>\n",
       "    </tr>\n",
       "    <tr>\n",
       "      <th>1</th>\n",
       "      <td>Malic.acid</td>\n",
       "      <td>9.067566</td>\n",
       "    </tr>\n",
       "    <tr>\n",
       "      <th>2</th>\n",
       "      <td>Acl</td>\n",
       "      <td>64.575625</td>\n",
       "    </tr>\n",
       "    <tr>\n",
       "      <th>3</th>\n",
       "      <td>Phenols</td>\n",
       "      <td>71.682360</td>\n",
       "    </tr>\n",
       "    <tr>\n",
       "      <th>4</th>\n",
       "      <td>Flavanoids</td>\n",
       "      <td>66.234800</td>\n",
       "    </tr>\n",
       "    <tr>\n",
       "      <th>5</th>\n",
       "      <td>Nonflavanoid.phenols</td>\n",
       "      <td>15.047071</td>\n",
       "    </tr>\n",
       "    <tr>\n",
       "      <th>6</th>\n",
       "      <td>Proanth</td>\n",
       "      <td>23.990154</td>\n",
       "    </tr>\n",
       "    <tr>\n",
       "      <th>7</th>\n",
       "      <td>Color.int</td>\n",
       "      <td>9.245273</td>\n",
       "    </tr>\n",
       "    <tr>\n",
       "      <th>8</th>\n",
       "      <td>Hue</td>\n",
       "      <td>37.210404</td>\n",
       "    </tr>\n",
       "    <tr>\n",
       "      <th>9</th>\n",
       "      <td>OD</td>\n",
       "      <td>46.210318</td>\n",
       "    </tr>\n",
       "  </tbody>\n",
       "</table>\n",
       "</div>"
      ],
      "text/plain": [
       "               features        VIF\n",
       "0                  Wine  30.449777\n",
       "1            Malic.acid   9.067566\n",
       "2                   Acl  64.575625\n",
       "3               Phenols  71.682360\n",
       "4            Flavanoids  66.234800\n",
       "5  Nonflavanoid.phenols  15.047071\n",
       "6               Proanth  23.990154\n",
       "7             Color.int   9.245273\n",
       "8                   Hue  37.210404\n",
       "9                    OD  46.210318"
      ]
     },
     "execution_count": 29,
     "metadata": {},
     "output_type": "execute_result"
    }
   ],
   "source": [
    "cols_list=[]\n",
    "for i in df.columns:\n",
    "     if ((df[i].dtypes!=\"object\") & (i!=\"Proline\")):\n",
    "        cols_list.append(i)\n",
    "x=df[cols_list]\n",
    "vif_data=pd.DataFrame()\n",
    "vif_data[\"features\"]=x.columns\n",
    "vif_data[\"VIF\"]=[variance_inflation_factor(x.values,i) for i in range(len(x.columns))]\n",
    "vif_data"
   ]
  },
  {
   "cell_type": "code",
   "execution_count": 30,
   "id": "884c4339-b770-49fc-b67d-8500c67c8228",
   "metadata": {},
   "outputs": [],
   "source": [
    "df=df.drop([\"Phenols\"], axis=1)"
   ]
  },
  {
   "cell_type": "code",
   "execution_count": 31,
   "id": "af857b56-d141-4bd5-9a51-3a1253832c16",
   "metadata": {},
   "outputs": [
    {
     "data": {
      "text/html": [
       "<div>\n",
       "<style scoped>\n",
       "    .dataframe tbody tr th:only-of-type {\n",
       "        vertical-align: middle;\n",
       "    }\n",
       "\n",
       "    .dataframe tbody tr th {\n",
       "        vertical-align: top;\n",
       "    }\n",
       "\n",
       "    .dataframe thead th {\n",
       "        text-align: right;\n",
       "    }\n",
       "</style>\n",
       "<table border=\"1\" class=\"dataframe\">\n",
       "  <thead>\n",
       "    <tr style=\"text-align: right;\">\n",
       "      <th></th>\n",
       "      <th>features</th>\n",
       "      <th>VIF</th>\n",
       "    </tr>\n",
       "  </thead>\n",
       "  <tbody>\n",
       "    <tr>\n",
       "      <th>0</th>\n",
       "      <td>Wine</td>\n",
       "      <td>28.903886</td>\n",
       "    </tr>\n",
       "    <tr>\n",
       "      <th>1</th>\n",
       "      <td>Malic.acid</td>\n",
       "      <td>9.061594</td>\n",
       "    </tr>\n",
       "    <tr>\n",
       "      <th>2</th>\n",
       "      <td>Acl</td>\n",
       "      <td>64.487204</td>\n",
       "    </tr>\n",
       "    <tr>\n",
       "      <th>3</th>\n",
       "      <td>Flavanoids</td>\n",
       "      <td>38.338553</td>\n",
       "    </tr>\n",
       "    <tr>\n",
       "      <th>4</th>\n",
       "      <td>Nonflavanoid.phenols</td>\n",
       "      <td>14.744841</td>\n",
       "    </tr>\n",
       "    <tr>\n",
       "      <th>5</th>\n",
       "      <td>Proanth</td>\n",
       "      <td>23.721959</td>\n",
       "    </tr>\n",
       "    <tr>\n",
       "      <th>6</th>\n",
       "      <td>Color.int</td>\n",
       "      <td>8.645592</td>\n",
       "    </tr>\n",
       "    <tr>\n",
       "      <th>7</th>\n",
       "      <td>Hue</td>\n",
       "      <td>37.208574</td>\n",
       "    </tr>\n",
       "    <tr>\n",
       "      <th>8</th>\n",
       "      <td>OD</td>\n",
       "      <td>42.814196</td>\n",
       "    </tr>\n",
       "  </tbody>\n",
       "</table>\n",
       "</div>"
      ],
      "text/plain": [
       "               features        VIF\n",
       "0                  Wine  28.903886\n",
       "1            Malic.acid   9.061594\n",
       "2                   Acl  64.487204\n",
       "3            Flavanoids  38.338553\n",
       "4  Nonflavanoid.phenols  14.744841\n",
       "5               Proanth  23.721959\n",
       "6             Color.int   8.645592\n",
       "7                   Hue  37.208574\n",
       "8                    OD  42.814196"
      ]
     },
     "execution_count": 31,
     "metadata": {},
     "output_type": "execute_result"
    }
   ],
   "source": [
    "cols_list=[]\n",
    "for i in df.columns:\n",
    "     if ((df[i].dtypes!=\"object\") & (i!=\"Proline\")):\n",
    "        cols_list.append(i)\n",
    "x=df[cols_list]\n",
    "vif_data=pd.DataFrame()\n",
    "vif_data[\"features\"]=x.columns\n",
    "vif_data[\"VIF\"]=[variance_inflation_factor(x.values,i) for i in range(len(x.columns))]\n",
    "vif_data"
   ]
  },
  {
   "cell_type": "code",
   "execution_count": 32,
   "id": "70d5bc8b-c382-4576-9b6e-89e9cb233ff2",
   "metadata": {},
   "outputs": [],
   "source": [
    "df=df.drop([\"Acl\"], axis=1)"
   ]
  },
  {
   "cell_type": "code",
   "execution_count": 33,
   "id": "73c15517-8f78-4e54-964d-9a476dd189b9",
   "metadata": {},
   "outputs": [
    {
     "data": {
      "text/html": [
       "<div>\n",
       "<style scoped>\n",
       "    .dataframe tbody tr th:only-of-type {\n",
       "        vertical-align: middle;\n",
       "    }\n",
       "\n",
       "    .dataframe tbody tr th {\n",
       "        vertical-align: top;\n",
       "    }\n",
       "\n",
       "    .dataframe thead th {\n",
       "        text-align: right;\n",
       "    }\n",
       "</style>\n",
       "<table border=\"1\" class=\"dataframe\">\n",
       "  <thead>\n",
       "    <tr style=\"text-align: right;\">\n",
       "      <th></th>\n",
       "      <th>features</th>\n",
       "      <th>VIF</th>\n",
       "    </tr>\n",
       "  </thead>\n",
       "  <tbody>\n",
       "    <tr>\n",
       "      <th>0</th>\n",
       "      <td>Wine</td>\n",
       "      <td>16.773488</td>\n",
       "    </tr>\n",
       "    <tr>\n",
       "      <th>1</th>\n",
       "      <td>Malic.acid</td>\n",
       "      <td>8.790061</td>\n",
       "    </tr>\n",
       "    <tr>\n",
       "      <th>2</th>\n",
       "      <td>Flavanoids</td>\n",
       "      <td>38.077841</td>\n",
       "    </tr>\n",
       "    <tr>\n",
       "      <th>3</th>\n",
       "      <td>Nonflavanoid.phenols</td>\n",
       "      <td>14.249592</td>\n",
       "    </tr>\n",
       "    <tr>\n",
       "      <th>4</th>\n",
       "      <td>Proanth</td>\n",
       "      <td>23.660314</td>\n",
       "    </tr>\n",
       "    <tr>\n",
       "      <th>5</th>\n",
       "      <td>Color.int</td>\n",
       "      <td>8.642281</td>\n",
       "    </tr>\n",
       "    <tr>\n",
       "      <th>6</th>\n",
       "      <td>Hue</td>\n",
       "      <td>35.771054</td>\n",
       "    </tr>\n",
       "    <tr>\n",
       "      <th>7</th>\n",
       "      <td>OD</td>\n",
       "      <td>39.545302</td>\n",
       "    </tr>\n",
       "  </tbody>\n",
       "</table>\n",
       "</div>"
      ],
      "text/plain": [
       "               features        VIF\n",
       "0                  Wine  16.773488\n",
       "1            Malic.acid   8.790061\n",
       "2            Flavanoids  38.077841\n",
       "3  Nonflavanoid.phenols  14.249592\n",
       "4               Proanth  23.660314\n",
       "5             Color.int   8.642281\n",
       "6                   Hue  35.771054\n",
       "7                    OD  39.545302"
      ]
     },
     "execution_count": 33,
     "metadata": {},
     "output_type": "execute_result"
    }
   ],
   "source": [
    "cols_list=[]\n",
    "for i in df.columns:\n",
    "     if ((df[i].dtypes!=\"object\") & (i!=\"Proline\")):\n",
    "        cols_list.append(i)\n",
    "x=df[cols_list]\n",
    "vif_data=pd.DataFrame()\n",
    "vif_data[\"features\"]=x.columns\n",
    "vif_data[\"VIF\"]=[variance_inflation_factor(x.values,i) for i in range(len(x.columns))]\n",
    "vif_data"
   ]
  },
  {
   "cell_type": "code",
   "execution_count": 34,
   "id": "650ca23c-42d9-4595-854f-189db358992d",
   "metadata": {},
   "outputs": [],
   "source": [
    "df=df.drop([\"OD\"], axis=1)"
   ]
  },
  {
   "cell_type": "code",
   "execution_count": 35,
   "id": "0354de27-e61b-4be0-8582-455774425c35",
   "metadata": {},
   "outputs": [
    {
     "data": {
      "text/html": [
       "<div>\n",
       "<style scoped>\n",
       "    .dataframe tbody tr th:only-of-type {\n",
       "        vertical-align: middle;\n",
       "    }\n",
       "\n",
       "    .dataframe tbody tr th {\n",
       "        vertical-align: top;\n",
       "    }\n",
       "\n",
       "    .dataframe thead th {\n",
       "        text-align: right;\n",
       "    }\n",
       "</style>\n",
       "<table border=\"1\" class=\"dataframe\">\n",
       "  <thead>\n",
       "    <tr style=\"text-align: right;\">\n",
       "      <th></th>\n",
       "      <th>features</th>\n",
       "      <th>VIF</th>\n",
       "    </tr>\n",
       "  </thead>\n",
       "  <tbody>\n",
       "    <tr>\n",
       "      <th>0</th>\n",
       "      <td>Wine</td>\n",
       "      <td>16.451704</td>\n",
       "    </tr>\n",
       "    <tr>\n",
       "      <th>1</th>\n",
       "      <td>Malic.acid</td>\n",
       "      <td>8.209132</td>\n",
       "    </tr>\n",
       "    <tr>\n",
       "      <th>2</th>\n",
       "      <td>Flavanoids</td>\n",
       "      <td>29.977025</td>\n",
       "    </tr>\n",
       "    <tr>\n",
       "      <th>3</th>\n",
       "      <td>Nonflavanoid.phenols</td>\n",
       "      <td>14.228145</td>\n",
       "    </tr>\n",
       "    <tr>\n",
       "      <th>4</th>\n",
       "      <td>Proanth</td>\n",
       "      <td>23.218391</td>\n",
       "    </tr>\n",
       "    <tr>\n",
       "      <th>5</th>\n",
       "      <td>Color.int</td>\n",
       "      <td>8.054947</td>\n",
       "    </tr>\n",
       "    <tr>\n",
       "      <th>6</th>\n",
       "      <td>Hue</td>\n",
       "      <td>30.760479</td>\n",
       "    </tr>\n",
       "  </tbody>\n",
       "</table>\n",
       "</div>"
      ],
      "text/plain": [
       "               features        VIF\n",
       "0                  Wine  16.451704\n",
       "1            Malic.acid   8.209132\n",
       "2            Flavanoids  29.977025\n",
       "3  Nonflavanoid.phenols  14.228145\n",
       "4               Proanth  23.218391\n",
       "5             Color.int   8.054947\n",
       "6                   Hue  30.760479"
      ]
     },
     "execution_count": 35,
     "metadata": {},
     "output_type": "execute_result"
    }
   ],
   "source": [
    "cols_list=[]\n",
    "for i in df.columns:\n",
    "     if ((df[i].dtypes!=\"object\") & (i!=\"Proline\")):\n",
    "        cols_list.append(i)\n",
    "x=df[cols_list]\n",
    "vif_data=pd.DataFrame()\n",
    "vif_data[\"features\"]=x.columns\n",
    "vif_data[\"VIF\"]=[variance_inflation_factor(x.values,i) for i in range(len(x.columns))]\n",
    "vif_data"
   ]
  },
  {
   "cell_type": "code",
   "execution_count": 36,
   "id": "16587596-696a-4861-aac2-686efe0771d5",
   "metadata": {},
   "outputs": [],
   "source": [
    "df=df.drop([\"Hue\"], axis=1)"
   ]
  },
  {
   "cell_type": "code",
   "execution_count": 37,
   "id": "db97c382-c7e4-4ba6-97c4-b2eb8bcde902",
   "metadata": {},
   "outputs": [
    {
     "data": {
      "text/html": [
       "<div>\n",
       "<style scoped>\n",
       "    .dataframe tbody tr th:only-of-type {\n",
       "        vertical-align: middle;\n",
       "    }\n",
       "\n",
       "    .dataframe tbody tr th {\n",
       "        vertical-align: top;\n",
       "    }\n",
       "\n",
       "    .dataframe thead th {\n",
       "        text-align: right;\n",
       "    }\n",
       "</style>\n",
       "<table border=\"1\" class=\"dataframe\">\n",
       "  <thead>\n",
       "    <tr style=\"text-align: right;\">\n",
       "      <th></th>\n",
       "      <th>features</th>\n",
       "      <th>VIF</th>\n",
       "    </tr>\n",
       "  </thead>\n",
       "  <tbody>\n",
       "    <tr>\n",
       "      <th>0</th>\n",
       "      <td>Wine</td>\n",
       "      <td>13.042159</td>\n",
       "    </tr>\n",
       "    <tr>\n",
       "      <th>1</th>\n",
       "      <td>Malic.acid</td>\n",
       "      <td>7.925211</td>\n",
       "    </tr>\n",
       "    <tr>\n",
       "      <th>2</th>\n",
       "      <td>Flavanoids</td>\n",
       "      <td>15.522984</td>\n",
       "    </tr>\n",
       "    <tr>\n",
       "      <th>3</th>\n",
       "      <td>Nonflavanoid.phenols</td>\n",
       "      <td>11.335129</td>\n",
       "    </tr>\n",
       "    <tr>\n",
       "      <th>4</th>\n",
       "      <td>Proanth</td>\n",
       "      <td>23.202082</td>\n",
       "    </tr>\n",
       "    <tr>\n",
       "      <th>5</th>\n",
       "      <td>Color.int</td>\n",
       "      <td>7.327662</td>\n",
       "    </tr>\n",
       "  </tbody>\n",
       "</table>\n",
       "</div>"
      ],
      "text/plain": [
       "               features        VIF\n",
       "0                  Wine  13.042159\n",
       "1            Malic.acid   7.925211\n",
       "2            Flavanoids  15.522984\n",
       "3  Nonflavanoid.phenols  11.335129\n",
       "4               Proanth  23.202082\n",
       "5             Color.int   7.327662"
      ]
     },
     "execution_count": 37,
     "metadata": {},
     "output_type": "execute_result"
    }
   ],
   "source": [
    "cols_list=[]\n",
    "for i in df.columns:\n",
    "     if ((df[i].dtypes!=\"object\") & (i!=\"Proline\")):\n",
    "        cols_list.append(i)\n",
    "x=df[cols_list]\n",
    "vif_data=pd.DataFrame()\n",
    "vif_data[\"features\"]=x.columns\n",
    "vif_data[\"VIF\"]=[variance_inflation_factor(x.values,i) for i in range(len(x.columns))]\n",
    "vif_data"
   ]
  },
  {
   "cell_type": "code",
   "execution_count": 38,
   "id": "e35c8749-57a8-4e1c-aa11-6c3f3966fddf",
   "metadata": {},
   "outputs": [],
   "source": [
    "df=df.drop([\"Proanth\"], axis=1)"
   ]
  },
  {
   "cell_type": "code",
   "execution_count": 39,
   "id": "e35538a6-a3fe-4743-a1d9-2da6d6d59024",
   "metadata": {},
   "outputs": [
    {
     "data": {
      "text/html": [
       "<div>\n",
       "<style scoped>\n",
       "    .dataframe tbody tr th:only-of-type {\n",
       "        vertical-align: middle;\n",
       "    }\n",
       "\n",
       "    .dataframe tbody tr th {\n",
       "        vertical-align: top;\n",
       "    }\n",
       "\n",
       "    .dataframe thead th {\n",
       "        text-align: right;\n",
       "    }\n",
       "</style>\n",
       "<table border=\"1\" class=\"dataframe\">\n",
       "  <thead>\n",
       "    <tr style=\"text-align: right;\">\n",
       "      <th></th>\n",
       "      <th>features</th>\n",
       "      <th>VIF</th>\n",
       "    </tr>\n",
       "  </thead>\n",
       "  <tbody>\n",
       "    <tr>\n",
       "      <th>0</th>\n",
       "      <td>Wine</td>\n",
       "      <td>12.307044</td>\n",
       "    </tr>\n",
       "    <tr>\n",
       "      <th>1</th>\n",
       "      <td>Malic.acid</td>\n",
       "      <td>7.791637</td>\n",
       "    </tr>\n",
       "    <tr>\n",
       "      <th>2</th>\n",
       "      <td>Flavanoids</td>\n",
       "      <td>3.317210</td>\n",
       "    </tr>\n",
       "    <tr>\n",
       "      <th>3</th>\n",
       "      <td>Nonflavanoid.phenols</td>\n",
       "      <td>11.319299</td>\n",
       "    </tr>\n",
       "    <tr>\n",
       "      <th>4</th>\n",
       "      <td>Color.int</td>\n",
       "      <td>7.290724</td>\n",
       "    </tr>\n",
       "  </tbody>\n",
       "</table>\n",
       "</div>"
      ],
      "text/plain": [
       "               features        VIF\n",
       "0                  Wine  12.307044\n",
       "1            Malic.acid   7.791637\n",
       "2            Flavanoids   3.317210\n",
       "3  Nonflavanoid.phenols  11.319299\n",
       "4             Color.int   7.290724"
      ]
     },
     "execution_count": 39,
     "metadata": {},
     "output_type": "execute_result"
    }
   ],
   "source": [
    "cols_list=[]\n",
    "for i in df.columns:\n",
    "     if ((df[i].dtypes!=\"object\") & (i!=\"Proline\")):\n",
    "        cols_list.append(i)\n",
    "x=df[cols_list]\n",
    "vif_data=pd.DataFrame()\n",
    "vif_data[\"features\"]=x.columns\n",
    "vif_data[\"VIF\"]=[variance_inflation_factor(x.values,i) for i in range(len(x.columns))]\n",
    "vif_data"
   ]
  },
  {
   "cell_type": "code",
   "execution_count": 40,
   "id": "1b4e7845-f359-4d1f-bffa-68905daf75e5",
   "metadata": {},
   "outputs": [],
   "source": [
    "df=df.drop([\"Wine\"], axis=1)"
   ]
  },
  {
   "cell_type": "code",
   "execution_count": 41,
   "id": "2b63c473-fb17-40f8-aedf-b8fd562c1559",
   "metadata": {},
   "outputs": [
    {
     "data": {
      "text/html": [
       "<div>\n",
       "<style scoped>\n",
       "    .dataframe tbody tr th:only-of-type {\n",
       "        vertical-align: middle;\n",
       "    }\n",
       "\n",
       "    .dataframe tbody tr th {\n",
       "        vertical-align: top;\n",
       "    }\n",
       "\n",
       "    .dataframe thead th {\n",
       "        text-align: right;\n",
       "    }\n",
       "</style>\n",
       "<table border=\"1\" class=\"dataframe\">\n",
       "  <thead>\n",
       "    <tr style=\"text-align: right;\">\n",
       "      <th></th>\n",
       "      <th>features</th>\n",
       "      <th>VIF</th>\n",
       "    </tr>\n",
       "  </thead>\n",
       "  <tbody>\n",
       "    <tr>\n",
       "      <th>0</th>\n",
       "      <td>Malic.acid</td>\n",
       "      <td>6.689598</td>\n",
       "    </tr>\n",
       "    <tr>\n",
       "      <th>1</th>\n",
       "      <td>Flavanoids</td>\n",
       "      <td>2.913428</td>\n",
       "    </tr>\n",
       "    <tr>\n",
       "      <th>2</th>\n",
       "      <td>Nonflavanoid.phenols</td>\n",
       "      <td>6.854011</td>\n",
       "    </tr>\n",
       "    <tr>\n",
       "      <th>3</th>\n",
       "      <td>Color.int</td>\n",
       "      <td>6.631612</td>\n",
       "    </tr>\n",
       "  </tbody>\n",
       "</table>\n",
       "</div>"
      ],
      "text/plain": [
       "               features       VIF\n",
       "0            Malic.acid  6.689598\n",
       "1            Flavanoids  2.913428\n",
       "2  Nonflavanoid.phenols  6.854011\n",
       "3             Color.int  6.631612"
      ]
     },
     "execution_count": 41,
     "metadata": {},
     "output_type": "execute_result"
    }
   ],
   "source": [
    "cols_list=[]\n",
    "for i in df.columns:\n",
    "     if ((df[i].dtypes!=\"object\") & (i!=\"Proline\")):\n",
    "        cols_list.append(i)\n",
    "x=df[cols_list]\n",
    "vif_data=pd.DataFrame()\n",
    "vif_data[\"features\"]=x.columns\n",
    "vif_data[\"VIF\"]=[variance_inflation_factor(x.values,i) for i in range(len(x.columns))]\n",
    "vif_data"
   ]
  },
  {
   "cell_type": "code",
   "execution_count": 42,
   "id": "d83d8b24-69a6-42d6-81e7-6ce1982fcb3f",
   "metadata": {},
   "outputs": [],
   "source": [
    "df=df.drop([\"Nonflavanoid.phenols\"], axis=1)"
   ]
  },
  {
   "cell_type": "code",
   "execution_count": 43,
   "id": "c6f0ec00-a4d6-40e3-a18b-57d9977363b0",
   "metadata": {},
   "outputs": [
    {
     "data": {
      "text/html": [
       "<div>\n",
       "<style scoped>\n",
       "    .dataframe tbody tr th:only-of-type {\n",
       "        vertical-align: middle;\n",
       "    }\n",
       "\n",
       "    .dataframe tbody tr th {\n",
       "        vertical-align: top;\n",
       "    }\n",
       "\n",
       "    .dataframe thead th {\n",
       "        text-align: right;\n",
       "    }\n",
       "</style>\n",
       "<table border=\"1\" class=\"dataframe\">\n",
       "  <thead>\n",
       "    <tr style=\"text-align: right;\">\n",
       "      <th></th>\n",
       "      <th>features</th>\n",
       "      <th>VIF</th>\n",
       "    </tr>\n",
       "  </thead>\n",
       "  <tbody>\n",
       "    <tr>\n",
       "      <th>0</th>\n",
       "      <td>Malic.acid</td>\n",
       "      <td>4.743419</td>\n",
       "    </tr>\n",
       "    <tr>\n",
       "      <th>1</th>\n",
       "      <td>Flavanoids</td>\n",
       "      <td>2.797034</td>\n",
       "    </tr>\n",
       "    <tr>\n",
       "      <th>2</th>\n",
       "      <td>Color.int</td>\n",
       "      <td>5.980157</td>\n",
       "    </tr>\n",
       "  </tbody>\n",
       "</table>\n",
       "</div>"
      ],
      "text/plain": [
       "     features       VIF\n",
       "0  Malic.acid  4.743419\n",
       "1  Flavanoids  2.797034\n",
       "2   Color.int  5.980157"
      ]
     },
     "execution_count": 43,
     "metadata": {},
     "output_type": "execute_result"
    }
   ],
   "source": [
    "cols_list=[]\n",
    "for i in df.columns:\n",
    "     if ((df[i].dtypes!=\"object\") & (i!=\"Proline\")):\n",
    "        cols_list.append(i)\n",
    "x=df[cols_list]\n",
    "vif_data=pd.DataFrame()\n",
    "vif_data[\"features\"]=x.columns\n",
    "vif_data[\"VIF\"]=[variance_inflation_factor(x.values,i) for i in range(len(x.columns))]\n",
    "vif_data"
   ]
  },
  {
   "cell_type": "code",
   "execution_count": 44,
   "id": "eb1e09a2-16c7-4cbd-ada6-dac8dcad966d",
   "metadata": {},
   "outputs": [
    {
     "data": {
      "text/plain": [
       "0      1065\n",
       "1      1050\n",
       "2      1185\n",
       "3      1480\n",
       "4       735\n",
       "       ... \n",
       "172     660\n",
       "174     750\n",
       "175     835\n",
       "176     840\n",
       "177     560\n",
       "Name: Proline, Length: 161, dtype: int64"
      ]
     },
     "execution_count": 44,
     "metadata": {},
     "output_type": "execute_result"
    }
   ],
   "source": [
    "y=df.iloc[:,-1]\n",
    "y"
   ]
  },
  {
   "cell_type": "code",
   "execution_count": 45,
   "id": "f615044a-80dc-4055-aae3-1aa1da6ff29a",
   "metadata": {},
   "outputs": [],
   "source": [
    "#Training the model\n",
    "from sklearn.model_selection import train_test_split\n",
    "from sklearn.linear_model import LinearRegression"
   ]
  },
  {
   "cell_type": "code",
   "execution_count": 46,
   "id": "95e2fe86-c4c7-4270-8a89-9d87b9320a33",
   "metadata": {},
   "outputs": [],
   "source": [
    "x_train,x_test, y_train, y_test= train_test_split(x,y, test_size=0.2)"
   ]
  },
  {
   "cell_type": "code",
   "execution_count": 47,
   "id": "e5ef2d2a-4b73-4487-8fa9-2755fce7e6d6",
   "metadata": {},
   "outputs": [],
   "source": [
    "lr=LinearRegression()"
   ]
  },
  {
   "cell_type": "code",
   "execution_count": 48,
   "id": "48c7c239-5bf7-4d30-ad21-540039344968",
   "metadata": {},
   "outputs": [
    {
     "data": {
      "text/html": [
       "<style>#sk-container-id-1 {color: black;}#sk-container-id-1 pre{padding: 0;}#sk-container-id-1 div.sk-toggleable {background-color: white;}#sk-container-id-1 label.sk-toggleable__label {cursor: pointer;display: block;width: 100%;margin-bottom: 0;padding: 0.3em;box-sizing: border-box;text-align: center;}#sk-container-id-1 label.sk-toggleable__label-arrow:before {content: \"▸\";float: left;margin-right: 0.25em;color: #696969;}#sk-container-id-1 label.sk-toggleable__label-arrow:hover:before {color: black;}#sk-container-id-1 div.sk-estimator:hover label.sk-toggleable__label-arrow:before {color: black;}#sk-container-id-1 div.sk-toggleable__content {max-height: 0;max-width: 0;overflow: hidden;text-align: left;background-color: #f0f8ff;}#sk-container-id-1 div.sk-toggleable__content pre {margin: 0.2em;color: black;border-radius: 0.25em;background-color: #f0f8ff;}#sk-container-id-1 input.sk-toggleable__control:checked~div.sk-toggleable__content {max-height: 200px;max-width: 100%;overflow: auto;}#sk-container-id-1 input.sk-toggleable__control:checked~label.sk-toggleable__label-arrow:before {content: \"▾\";}#sk-container-id-1 div.sk-estimator input.sk-toggleable__control:checked~label.sk-toggleable__label {background-color: #d4ebff;}#sk-container-id-1 div.sk-label input.sk-toggleable__control:checked~label.sk-toggleable__label {background-color: #d4ebff;}#sk-container-id-1 input.sk-hidden--visually {border: 0;clip: rect(1px 1px 1px 1px);clip: rect(1px, 1px, 1px, 1px);height: 1px;margin: -1px;overflow: hidden;padding: 0;position: absolute;width: 1px;}#sk-container-id-1 div.sk-estimator {font-family: monospace;background-color: #f0f8ff;border: 1px dotted black;border-radius: 0.25em;box-sizing: border-box;margin-bottom: 0.5em;}#sk-container-id-1 div.sk-estimator:hover {background-color: #d4ebff;}#sk-container-id-1 div.sk-parallel-item::after {content: \"\";width: 100%;border-bottom: 1px solid gray;flex-grow: 1;}#sk-container-id-1 div.sk-label:hover label.sk-toggleable__label {background-color: #d4ebff;}#sk-container-id-1 div.sk-serial::before {content: \"\";position: absolute;border-left: 1px solid gray;box-sizing: border-box;top: 0;bottom: 0;left: 50%;z-index: 0;}#sk-container-id-1 div.sk-serial {display: flex;flex-direction: column;align-items: center;background-color: white;padding-right: 0.2em;padding-left: 0.2em;position: relative;}#sk-container-id-1 div.sk-item {position: relative;z-index: 1;}#sk-container-id-1 div.sk-parallel {display: flex;align-items: stretch;justify-content: center;background-color: white;position: relative;}#sk-container-id-1 div.sk-item::before, #sk-container-id-1 div.sk-parallel-item::before {content: \"\";position: absolute;border-left: 1px solid gray;box-sizing: border-box;top: 0;bottom: 0;left: 50%;z-index: -1;}#sk-container-id-1 div.sk-parallel-item {display: flex;flex-direction: column;z-index: 1;position: relative;background-color: white;}#sk-container-id-1 div.sk-parallel-item:first-child::after {align-self: flex-end;width: 50%;}#sk-container-id-1 div.sk-parallel-item:last-child::after {align-self: flex-start;width: 50%;}#sk-container-id-1 div.sk-parallel-item:only-child::after {width: 0;}#sk-container-id-1 div.sk-dashed-wrapped {border: 1px dashed gray;margin: 0 0.4em 0.5em 0.4em;box-sizing: border-box;padding-bottom: 0.4em;background-color: white;}#sk-container-id-1 div.sk-label label {font-family: monospace;font-weight: bold;display: inline-block;line-height: 1.2em;}#sk-container-id-1 div.sk-label-container {text-align: center;}#sk-container-id-1 div.sk-container {/* jupyter's `normalize.less` sets `[hidden] { display: none; }` but bootstrap.min.css set `[hidden] { display: none !important; }` so we also need the `!important` here to be able to override the default hidden behavior on the sphinx rendered scikit-learn.org. See: https://github.com/scikit-learn/scikit-learn/issues/21755 */display: inline-block !important;position: relative;}#sk-container-id-1 div.sk-text-repr-fallback {display: none;}</style><div id=\"sk-container-id-1\" class=\"sk-top-container\"><div class=\"sk-text-repr-fallback\"><pre>LinearRegression()</pre><b>In a Jupyter environment, please rerun this cell to show the HTML representation or trust the notebook. <br />On GitHub, the HTML representation is unable to render, please try loading this page with nbviewer.org.</b></div><div class=\"sk-container\" hidden><div class=\"sk-item\"><div class=\"sk-estimator sk-toggleable\"><input class=\"sk-toggleable__control sk-hidden--visually\" id=\"sk-estimator-id-1\" type=\"checkbox\" checked><label for=\"sk-estimator-id-1\" class=\"sk-toggleable__label sk-toggleable__label-arrow\">LinearRegression</label><div class=\"sk-toggleable__content\"><pre>LinearRegression()</pre></div></div></div></div></div>"
      ],
      "text/plain": [
       "LinearRegression()"
      ]
     },
     "execution_count": 48,
     "metadata": {},
     "output_type": "execute_result"
    }
   ],
   "source": [
    "lr.fit(x_train,y_train)"
   ]
  },
  {
   "cell_type": "code",
   "execution_count": 49,
   "id": "8a8460d8-c558-4216-b879-c845d87c120c",
   "metadata": {},
   "outputs": [],
   "source": [
    "y_pred=lr.predict(x_test)"
   ]
  },
  {
   "cell_type": "code",
   "execution_count": 50,
   "id": "424c4284-5500-4d81-9e58-42a677549122",
   "metadata": {},
   "outputs": [],
   "source": [
    "#Checking the accuracy of the model using r2 score"
   ]
  },
  {
   "cell_type": "code",
   "execution_count": 51,
   "id": "a9d4671a-aa88-431b-9003-0ee6527e4c9f",
   "metadata": {},
   "outputs": [],
   "source": [
    "from sklearn.metrics import r2_score"
   ]
  },
  {
   "cell_type": "code",
   "execution_count": 54,
   "id": "3ab7021a-f4fb-4fd2-b3e6-e3c47a5383c8",
   "metadata": {},
   "outputs": [],
   "source": [
    "r2score=r2_score(y_test, y_pred)"
   ]
  },
  {
   "cell_type": "code",
   "execution_count": 55,
   "id": "9b28ce1e-9403-475c-8d66-acd1dcaafc50",
   "metadata": {},
   "outputs": [
    {
     "data": {
      "text/plain": [
       "0.5003473510436978"
      ]
     },
     "execution_count": 55,
     "metadata": {},
     "output_type": "execute_result"
    }
   ],
   "source": [
    "r2score"
   ]
  },
  {
   "cell_type": "code",
   "execution_count": null,
   "id": "60f7e008-261f-4323-8b96-069fc08f7770",
   "metadata": {},
   "outputs": [],
   "source": []
  }
 ],
 "metadata": {
  "kernelspec": {
   "display_name": "Python 3 (ipykernel)",
   "language": "python",
   "name": "python3"
  },
  "language_info": {
   "codemirror_mode": {
    "name": "ipython",
    "version": 3
   },
   "file_extension": ".py",
   "mimetype": "text/x-python",
   "name": "python",
   "nbconvert_exporter": "python",
   "pygments_lexer": "ipython3",
   "version": "3.12.1"
  }
 },
 "nbformat": 4,
 "nbformat_minor": 5
}
